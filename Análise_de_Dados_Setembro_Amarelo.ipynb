{
  "nbformat": 4,
  "nbformat_minor": 0,
  "metadata": {
    "colab": {
      "provenance": []
    },
    "kernelspec": {
      "name": "python3",
      "display_name": "Python 3"
    },
    "language_info": {
      "name": "python"
    }
  },
  "cells": [
    {
      "cell_type": "markdown",
      "source": [
        "# Bibliotecas"
      ],
      "metadata": {
        "id": "1PqhsI6Rc7Vs"
      }
    },
    {
      "cell_type": "markdown",
      "source": [
        "Importando bibliotecas:\n",
        "\n"
      ],
      "metadata": {
        "id": "tDC6m1pqBcFH"
      }
    },
    {
      "cell_type": "code",
      "execution_count": 9,
      "metadata": {
        "id": "yixaaXVrAk3b"
      },
      "outputs": [],
      "source": [
        "import pandas as pd\n",
        "import matplotlib.pyplot as plt\n",
        "import seaborn as sns"
      ]
    },
    {
      "cell_type": "markdown",
      "source": [
        "# Dados"
      ],
      "metadata": {
        "id": "sqg0VOxhcdz0"
      }
    },
    {
      "cell_type": "markdown",
      "source": [
        "O [_dataset_](https://www.kaggle.com/datasets/russellyates88/suicide-rates-overview-1985-to-2016) utilizado nessa análise é proveniente do Kaggle e é composto por um conjunto de dados coletados das seguintes fontes:\n",
        "\n",
        "[United Nations Development Program. (2018). Human development index - HDI.](http://hdr.undp.org/en/indicators/137506)\n",
        "\n",
        "[World Bank. (2018). World development indicators: GDP (current US$) by country:1985 to 2016.](http://databank.worldbank.org/data/source/world-development-indicators#)\n",
        "\n",
        "[Suicide in the Twenty-First Century (Szamil, 2017).](https://www.kaggle.com/szamil/suicide-in-the-twenty-first-century/notebook)\n",
        "\n",
        "[World Health Organization. (2018). Suicide prevention.](http://www.who.int/mental_health/suicide-prevention/en/)"
      ],
      "metadata": {
        "id": "wPXarZSVcq8y"
      }
    },
    {
      "cell_type": "markdown",
      "source": [
        "Importando dataset:"
      ],
      "metadata": {
        "id": "bkxKEFqSCU9J"
      }
    },
    {
      "cell_type": "code",
      "source": [
        "df = pd.read_csv('https://raw.githubusercontent.com/amnacas/Portifolio/master/master.csv')"
      ],
      "metadata": {
        "id": "9pLV6exLCUdy"
      },
      "execution_count": 10,
      "outputs": []
    },
    {
      "cell_type": "markdown",
      "source": [
        "Observando o _dataset_:"
      ],
      "metadata": {
        "id": "6YUh4HJDC30Y"
      }
    },
    {
      "cell_type": "code",
      "source": [
        "df"
      ],
      "metadata": {
        "colab": {
          "base_uri": "https://localhost:8080/",
          "height": 0
        },
        "id": "s4gr22eqC8is",
        "outputId": "c742f283-2280-4cf2-d5d7-0cd83719bbbd"
      },
      "execution_count": 11,
      "outputs": [
        {
          "output_type": "execute_result",
          "data": {
            "text/plain": [
              "          country  year     sex          age  suicides_no  population  \\\n",
              "0         Albania  1987    male  15-24 years           21      312900   \n",
              "1         Albania  1987    male  35-54 years           16      308000   \n",
              "2         Albania  1987  female  15-24 years           14      289700   \n",
              "3         Albania  1987    male    75+ years            1       21800   \n",
              "4         Albania  1987    male  25-34 years            9      274300   \n",
              "...           ...   ...     ...          ...          ...         ...   \n",
              "27815  Uzbekistan  2014  female  35-54 years          107     3620833   \n",
              "27816  Uzbekistan  2014  female    75+ years            9      348465   \n",
              "27817  Uzbekistan  2014    male   5-14 years           60     2762158   \n",
              "27818  Uzbekistan  2014  female   5-14 years           44     2631600   \n",
              "27819  Uzbekistan  2014  female  55-74 years           21     1438935   \n",
              "\n",
              "       suicides/100k pop    country-year  HDI for year  gdp_for_year ($)   \\\n",
              "0                   6.71     Albania1987           NaN      2,156,624,900   \n",
              "1                   5.19     Albania1987           NaN      2,156,624,900   \n",
              "2                   4.83     Albania1987           NaN      2,156,624,900   \n",
              "3                   4.59     Albania1987           NaN      2,156,624,900   \n",
              "4                   3.28     Albania1987           NaN      2,156,624,900   \n",
              "...                  ...             ...           ...                ...   \n",
              "27815               2.96  Uzbekistan2014         0.675     63,067,077,179   \n",
              "27816               2.58  Uzbekistan2014         0.675     63,067,077,179   \n",
              "27817               2.17  Uzbekistan2014         0.675     63,067,077,179   \n",
              "27818               1.67  Uzbekistan2014         0.675     63,067,077,179   \n",
              "27819               1.46  Uzbekistan2014         0.675     63,067,077,179   \n",
              "\n",
              "       gdp_per_capita ($)       generation  \n",
              "0                     796     Generation X  \n",
              "1                     796           Silent  \n",
              "2                     796     Generation X  \n",
              "3                     796  G.I. Generation  \n",
              "4                     796          Boomers  \n",
              "...                   ...              ...  \n",
              "27815                2309     Generation X  \n",
              "27816                2309           Silent  \n",
              "27817                2309     Generation Z  \n",
              "27818                2309     Generation Z  \n",
              "27819                2309          Boomers  \n",
              "\n",
              "[27820 rows x 12 columns]"
            ],
            "text/html": [
              "\n",
              "  <div id=\"df-6d15bc6f-c538-4a3e-b49b-0d7dc3a41cf8\">\n",
              "    <div class=\"colab-df-container\">\n",
              "      <div>\n",
              "<style scoped>\n",
              "    .dataframe tbody tr th:only-of-type {\n",
              "        vertical-align: middle;\n",
              "    }\n",
              "\n",
              "    .dataframe tbody tr th {\n",
              "        vertical-align: top;\n",
              "    }\n",
              "\n",
              "    .dataframe thead th {\n",
              "        text-align: right;\n",
              "    }\n",
              "</style>\n",
              "<table border=\"1\" class=\"dataframe\">\n",
              "  <thead>\n",
              "    <tr style=\"text-align: right;\">\n",
              "      <th></th>\n",
              "      <th>country</th>\n",
              "      <th>year</th>\n",
              "      <th>sex</th>\n",
              "      <th>age</th>\n",
              "      <th>suicides_no</th>\n",
              "      <th>population</th>\n",
              "      <th>suicides/100k pop</th>\n",
              "      <th>country-year</th>\n",
              "      <th>HDI for year</th>\n",
              "      <th>gdp_for_year ($)</th>\n",
              "      <th>gdp_per_capita ($)</th>\n",
              "      <th>generation</th>\n",
              "    </tr>\n",
              "  </thead>\n",
              "  <tbody>\n",
              "    <tr>\n",
              "      <th>0</th>\n",
              "      <td>Albania</td>\n",
              "      <td>1987</td>\n",
              "      <td>male</td>\n",
              "      <td>15-24 years</td>\n",
              "      <td>21</td>\n",
              "      <td>312900</td>\n",
              "      <td>6.71</td>\n",
              "      <td>Albania1987</td>\n",
              "      <td>NaN</td>\n",
              "      <td>2,156,624,900</td>\n",
              "      <td>796</td>\n",
              "      <td>Generation X</td>\n",
              "    </tr>\n",
              "    <tr>\n",
              "      <th>1</th>\n",
              "      <td>Albania</td>\n",
              "      <td>1987</td>\n",
              "      <td>male</td>\n",
              "      <td>35-54 years</td>\n",
              "      <td>16</td>\n",
              "      <td>308000</td>\n",
              "      <td>5.19</td>\n",
              "      <td>Albania1987</td>\n",
              "      <td>NaN</td>\n",
              "      <td>2,156,624,900</td>\n",
              "      <td>796</td>\n",
              "      <td>Silent</td>\n",
              "    </tr>\n",
              "    <tr>\n",
              "      <th>2</th>\n",
              "      <td>Albania</td>\n",
              "      <td>1987</td>\n",
              "      <td>female</td>\n",
              "      <td>15-24 years</td>\n",
              "      <td>14</td>\n",
              "      <td>289700</td>\n",
              "      <td>4.83</td>\n",
              "      <td>Albania1987</td>\n",
              "      <td>NaN</td>\n",
              "      <td>2,156,624,900</td>\n",
              "      <td>796</td>\n",
              "      <td>Generation X</td>\n",
              "    </tr>\n",
              "    <tr>\n",
              "      <th>3</th>\n",
              "      <td>Albania</td>\n",
              "      <td>1987</td>\n",
              "      <td>male</td>\n",
              "      <td>75+ years</td>\n",
              "      <td>1</td>\n",
              "      <td>21800</td>\n",
              "      <td>4.59</td>\n",
              "      <td>Albania1987</td>\n",
              "      <td>NaN</td>\n",
              "      <td>2,156,624,900</td>\n",
              "      <td>796</td>\n",
              "      <td>G.I. Generation</td>\n",
              "    </tr>\n",
              "    <tr>\n",
              "      <th>4</th>\n",
              "      <td>Albania</td>\n",
              "      <td>1987</td>\n",
              "      <td>male</td>\n",
              "      <td>25-34 years</td>\n",
              "      <td>9</td>\n",
              "      <td>274300</td>\n",
              "      <td>3.28</td>\n",
              "      <td>Albania1987</td>\n",
              "      <td>NaN</td>\n",
              "      <td>2,156,624,900</td>\n",
              "      <td>796</td>\n",
              "      <td>Boomers</td>\n",
              "    </tr>\n",
              "    <tr>\n",
              "      <th>...</th>\n",
              "      <td>...</td>\n",
              "      <td>...</td>\n",
              "      <td>...</td>\n",
              "      <td>...</td>\n",
              "      <td>...</td>\n",
              "      <td>...</td>\n",
              "      <td>...</td>\n",
              "      <td>...</td>\n",
              "      <td>...</td>\n",
              "      <td>...</td>\n",
              "      <td>...</td>\n",
              "      <td>...</td>\n",
              "    </tr>\n",
              "    <tr>\n",
              "      <th>27815</th>\n",
              "      <td>Uzbekistan</td>\n",
              "      <td>2014</td>\n",
              "      <td>female</td>\n",
              "      <td>35-54 years</td>\n",
              "      <td>107</td>\n",
              "      <td>3620833</td>\n",
              "      <td>2.96</td>\n",
              "      <td>Uzbekistan2014</td>\n",
              "      <td>0.675</td>\n",
              "      <td>63,067,077,179</td>\n",
              "      <td>2309</td>\n",
              "      <td>Generation X</td>\n",
              "    </tr>\n",
              "    <tr>\n",
              "      <th>27816</th>\n",
              "      <td>Uzbekistan</td>\n",
              "      <td>2014</td>\n",
              "      <td>female</td>\n",
              "      <td>75+ years</td>\n",
              "      <td>9</td>\n",
              "      <td>348465</td>\n",
              "      <td>2.58</td>\n",
              "      <td>Uzbekistan2014</td>\n",
              "      <td>0.675</td>\n",
              "      <td>63,067,077,179</td>\n",
              "      <td>2309</td>\n",
              "      <td>Silent</td>\n",
              "    </tr>\n",
              "    <tr>\n",
              "      <th>27817</th>\n",
              "      <td>Uzbekistan</td>\n",
              "      <td>2014</td>\n",
              "      <td>male</td>\n",
              "      <td>5-14 years</td>\n",
              "      <td>60</td>\n",
              "      <td>2762158</td>\n",
              "      <td>2.17</td>\n",
              "      <td>Uzbekistan2014</td>\n",
              "      <td>0.675</td>\n",
              "      <td>63,067,077,179</td>\n",
              "      <td>2309</td>\n",
              "      <td>Generation Z</td>\n",
              "    </tr>\n",
              "    <tr>\n",
              "      <th>27818</th>\n",
              "      <td>Uzbekistan</td>\n",
              "      <td>2014</td>\n",
              "      <td>female</td>\n",
              "      <td>5-14 years</td>\n",
              "      <td>44</td>\n",
              "      <td>2631600</td>\n",
              "      <td>1.67</td>\n",
              "      <td>Uzbekistan2014</td>\n",
              "      <td>0.675</td>\n",
              "      <td>63,067,077,179</td>\n",
              "      <td>2309</td>\n",
              "      <td>Generation Z</td>\n",
              "    </tr>\n",
              "    <tr>\n",
              "      <th>27819</th>\n",
              "      <td>Uzbekistan</td>\n",
              "      <td>2014</td>\n",
              "      <td>female</td>\n",
              "      <td>55-74 years</td>\n",
              "      <td>21</td>\n",
              "      <td>1438935</td>\n",
              "      <td>1.46</td>\n",
              "      <td>Uzbekistan2014</td>\n",
              "      <td>0.675</td>\n",
              "      <td>63,067,077,179</td>\n",
              "      <td>2309</td>\n",
              "      <td>Boomers</td>\n",
              "    </tr>\n",
              "  </tbody>\n",
              "</table>\n",
              "<p>27820 rows × 12 columns</p>\n",
              "</div>\n",
              "      <button class=\"colab-df-convert\" onclick=\"convertToInteractive('df-6d15bc6f-c538-4a3e-b49b-0d7dc3a41cf8')\"\n",
              "              title=\"Convert this dataframe to an interactive table.\"\n",
              "              style=\"display:none;\">\n",
              "        \n",
              "  <svg xmlns=\"http://www.w3.org/2000/svg\" height=\"24px\"viewBox=\"0 0 24 24\"\n",
              "       width=\"24px\">\n",
              "    <path d=\"M0 0h24v24H0V0z\" fill=\"none\"/>\n",
              "    <path d=\"M18.56 5.44l.94 2.06.94-2.06 2.06-.94-2.06-.94-.94-2.06-.94 2.06-2.06.94zm-11 1L8.5 8.5l.94-2.06 2.06-.94-2.06-.94L8.5 2.5l-.94 2.06-2.06.94zm10 10l.94 2.06.94-2.06 2.06-.94-2.06-.94-.94-2.06-.94 2.06-2.06.94z\"/><path d=\"M17.41 7.96l-1.37-1.37c-.4-.4-.92-.59-1.43-.59-.52 0-1.04.2-1.43.59L10.3 9.45l-7.72 7.72c-.78.78-.78 2.05 0 2.83L4 21.41c.39.39.9.59 1.41.59.51 0 1.02-.2 1.41-.59l7.78-7.78 2.81-2.81c.8-.78.8-2.07 0-2.86zM5.41 20L4 18.59l7.72-7.72 1.47 1.35L5.41 20z\"/>\n",
              "  </svg>\n",
              "      </button>\n",
              "      \n",
              "  <style>\n",
              "    .colab-df-container {\n",
              "      display:flex;\n",
              "      flex-wrap:wrap;\n",
              "      gap: 12px;\n",
              "    }\n",
              "\n",
              "    .colab-df-convert {\n",
              "      background-color: #E8F0FE;\n",
              "      border: none;\n",
              "      border-radius: 50%;\n",
              "      cursor: pointer;\n",
              "      display: none;\n",
              "      fill: #1967D2;\n",
              "      height: 32px;\n",
              "      padding: 0 0 0 0;\n",
              "      width: 32px;\n",
              "    }\n",
              "\n",
              "    .colab-df-convert:hover {\n",
              "      background-color: #E2EBFA;\n",
              "      box-shadow: 0px 1px 2px rgba(60, 64, 67, 0.3), 0px 1px 3px 1px rgba(60, 64, 67, 0.15);\n",
              "      fill: #174EA6;\n",
              "    }\n",
              "\n",
              "    [theme=dark] .colab-df-convert {\n",
              "      background-color: #3B4455;\n",
              "      fill: #D2E3FC;\n",
              "    }\n",
              "\n",
              "    [theme=dark] .colab-df-convert:hover {\n",
              "      background-color: #434B5C;\n",
              "      box-shadow: 0px 1px 3px 1px rgba(0, 0, 0, 0.15);\n",
              "      filter: drop-shadow(0px 1px 2px rgba(0, 0, 0, 0.3));\n",
              "      fill: #FFFFFF;\n",
              "    }\n",
              "  </style>\n",
              "\n",
              "      <script>\n",
              "        const buttonEl =\n",
              "          document.querySelector('#df-6d15bc6f-c538-4a3e-b49b-0d7dc3a41cf8 button.colab-df-convert');\n",
              "        buttonEl.style.display =\n",
              "          google.colab.kernel.accessAllowed ? 'block' : 'none';\n",
              "\n",
              "        async function convertToInteractive(key) {\n",
              "          const element = document.querySelector('#df-6d15bc6f-c538-4a3e-b49b-0d7dc3a41cf8');\n",
              "          const dataTable =\n",
              "            await google.colab.kernel.invokeFunction('convertToInteractive',\n",
              "                                                     [key], {});\n",
              "          if (!dataTable) return;\n",
              "\n",
              "          const docLinkHtml = 'Like what you see? Visit the ' +\n",
              "            '<a target=\"_blank\" href=https://colab.research.google.com/notebooks/data_table.ipynb>data table notebook</a>'\n",
              "            + ' to learn more about interactive tables.';\n",
              "          element.innerHTML = '';\n",
              "          dataTable['output_type'] = 'display_data';\n",
              "          await google.colab.output.renderOutput(dataTable, element);\n",
              "          const docLink = document.createElement('div');\n",
              "          docLink.innerHTML = docLinkHtml;\n",
              "          element.appendChild(docLink);\n",
              "        }\n",
              "      </script>\n",
              "    </div>\n",
              "  </div>\n",
              "  "
            ]
          },
          "metadata": {},
          "execution_count": 11
        }
      ]
    },
    {
      "cell_type": "markdown",
      "source": [
        "# Informações do dados"
      ],
      "metadata": {
        "id": "mJLsAd5hv4zH"
      }
    },
    {
      "cell_type": "markdown",
      "source": [
        "Tamanho do _dataset_:"
      ],
      "metadata": {
        "id": "S-8fDRajSpYx"
      }
    },
    {
      "cell_type": "code",
      "source": [
        "df.shape"
      ],
      "metadata": {
        "colab": {
          "base_uri": "https://localhost:8080/"
        },
        "id": "ZiWWpRIHSncp",
        "outputId": "1a14b95c-c548-4be2-bb86-f9f1da419846"
      },
      "execution_count": 12,
      "outputs": [
        {
          "output_type": "execute_result",
          "data": {
            "text/plain": [
              "(27820, 12)"
            ]
          },
          "metadata": {},
          "execution_count": 12
        }
      ]
    },
    {
      "cell_type": "markdown",
      "source": [
        "O _dataset_ possui 27820 linhas e 12 colunas (atributos)."
      ],
      "metadata": {
        "id": "BeJqGv_RSxQ_"
      }
    },
    {
      "cell_type": "markdown",
      "source": [
        "Observando as informações do _dataset_:"
      ],
      "metadata": {
        "id": "XLlqf76pD91a"
      }
    },
    {
      "cell_type": "code",
      "source": [
        "df.info()"
      ],
      "metadata": {
        "colab": {
          "base_uri": "https://localhost:8080/"
        },
        "id": "VIgaa3GmEEds",
        "outputId": "c72b6831-e930-4ede-f967-bccf75d44f5d"
      },
      "execution_count": 13,
      "outputs": [
        {
          "output_type": "stream",
          "name": "stdout",
          "text": [
            "<class 'pandas.core.frame.DataFrame'>\n",
            "RangeIndex: 27820 entries, 0 to 27819\n",
            "Data columns (total 12 columns):\n",
            " #   Column              Non-Null Count  Dtype  \n",
            "---  ------              --------------  -----  \n",
            " 0   country             27820 non-null  object \n",
            " 1   year                27820 non-null  int64  \n",
            " 2   sex                 27820 non-null  object \n",
            " 3   age                 27820 non-null  object \n",
            " 4   suicides_no         27820 non-null  int64  \n",
            " 5   population          27820 non-null  int64  \n",
            " 6   suicides/100k pop   27820 non-null  float64\n",
            " 7   country-year        27820 non-null  object \n",
            " 8   HDI for year        8364 non-null   float64\n",
            " 9    gdp_for_year ($)   27820 non-null  object \n",
            " 10  gdp_per_capita ($)  27820 non-null  int64  \n",
            " 11  generation          27820 non-null  object \n",
            "dtypes: float64(2), int64(4), object(6)\n",
            "memory usage: 2.5+ MB\n"
          ]
        }
      ]
    },
    {
      "cell_type": "markdown",
      "source": [
        "Existem 6 atributos que são _string_ (país, gênero, idade, país/ano, PIB/ano, geração), 4 atributos que são inteiros (ano, número de suicídios, população, PIB/capita) e 2 atributos _float_ (suicídios/100k habitantes e IDH)."
      ],
      "metadata": {
        "id": "2vvB1I0LRENR"
      }
    },
    {
      "cell_type": "markdown",
      "source": [
        "Analisa-se quantos dados nulos há no _dataset_:"
      ],
      "metadata": {
        "id": "7IKw-0mi6Wia"
      }
    },
    {
      "cell_type": "code",
      "source": [
        "df.isna().sum()"
      ],
      "metadata": {
        "colab": {
          "base_uri": "https://localhost:8080/"
        },
        "id": "EOCja4Vx6Qts",
        "outputId": "9ecd520c-ee6a-46e4-9aaa-84f7997b8b7f"
      },
      "execution_count": 14,
      "outputs": [
        {
          "output_type": "execute_result",
          "data": {
            "text/plain": [
              "country                   0\n",
              "year                      0\n",
              "sex                       0\n",
              "age                       0\n",
              "suicides_no               0\n",
              "population                0\n",
              "suicides/100k pop         0\n",
              "country-year              0\n",
              "HDI for year          19456\n",
              " gdp_for_year ($)         0\n",
              "gdp_per_capita ($)        0\n",
              "generation                0\n",
              "dtype: int64"
            ]
          },
          "metadata": {},
          "execution_count": 14
        }
      ]
    },
    {
      "cell_type": "markdown",
      "source": [
        "Como pode-se ver, há dados nulos somente no atributo \"PIB/ano($)\", que representa a maioria dos dados deste atributo."
      ],
      "metadata": {
        "id": "kizTdS3j6b9-"
      }
    },
    {
      "cell_type": "markdown",
      "source": [
        "Quantidade de valores únicos por atributo:"
      ],
      "metadata": {
        "id": "tmu5dcD97lCe"
      }
    },
    {
      "cell_type": "code",
      "source": [
        "df.nunique()"
      ],
      "metadata": {
        "colab": {
          "base_uri": "https://localhost:8080/"
        },
        "id": "4MVv3lmx7lYQ",
        "outputId": "fd82ca45-98da-4f8d-b79b-b294ccf26a2d"
      },
      "execution_count": 15,
      "outputs": [
        {
          "output_type": "execute_result",
          "data": {
            "text/plain": [
              "country                 101\n",
              "year                     32\n",
              "sex                       2\n",
              "age                       6\n",
              "suicides_no            2084\n",
              "population            25564\n",
              "suicides/100k pop      5298\n",
              "country-year           2321\n",
              "HDI for year            305\n",
              " gdp_for_year ($)      2321\n",
              "gdp_per_capita ($)     2233\n",
              "generation                6\n",
              "dtype: int64"
            ]
          },
          "metadata": {},
          "execution_count": 15
        }
      ]
    },
    {
      "cell_type": "markdown",
      "source": [
        "Mostra-se os valores únicos de cada atributo:"
      ],
      "metadata": {
        "id": "5BfZ93hS65aw"
      }
    },
    {
      "cell_type": "code",
      "source": [
        "for col in df.columns:\n",
        "  print(f'{col}:', df[col].sort_values().unique())"
      ],
      "metadata": {
        "colab": {
          "base_uri": "https://localhost:8080/"
        },
        "id": "ctX3HffE6-xa",
        "outputId": "79727377-cc43-4e52-8c45-b17e25209b29"
      },
      "execution_count": 16,
      "outputs": [
        {
          "output_type": "stream",
          "name": "stdout",
          "text": [
            "country: ['Albania' 'Antigua and Barbuda' 'Argentina' 'Armenia' 'Aruba' 'Australia'\n",
            " 'Austria' 'Azerbaijan' 'Bahamas' 'Bahrain' 'Barbados' 'Belarus' 'Belgium'\n",
            " 'Belize' 'Bosnia and Herzegovina' 'Brazil' 'Bulgaria' 'Cabo Verde'\n",
            " 'Canada' 'Chile' 'Colombia' 'Costa Rica' 'Croatia' 'Cuba' 'Cyprus'\n",
            " 'Czech Republic' 'Denmark' 'Dominica' 'Ecuador' 'El Salvador' 'Estonia'\n",
            " 'Fiji' 'Finland' 'France' 'Georgia' 'Germany' 'Greece' 'Grenada'\n",
            " 'Guatemala' 'Guyana' 'Hungary' 'Iceland' 'Ireland' 'Israel' 'Italy'\n",
            " 'Jamaica' 'Japan' 'Kazakhstan' 'Kiribati' 'Kuwait' 'Kyrgyzstan' 'Latvia'\n",
            " 'Lithuania' 'Luxembourg' 'Macau' 'Maldives' 'Malta' 'Mauritius' 'Mexico'\n",
            " 'Mongolia' 'Montenegro' 'Netherlands' 'New Zealand' 'Nicaragua' 'Norway'\n",
            " 'Oman' 'Panama' 'Paraguay' 'Philippines' 'Poland' 'Portugal'\n",
            " 'Puerto Rico' 'Qatar' 'Republic of Korea' 'Romania' 'Russian Federation'\n",
            " 'Saint Kitts and Nevis' 'Saint Lucia' 'Saint Vincent and Grenadines'\n",
            " 'San Marino' 'Serbia' 'Seychelles' 'Singapore' 'Slovakia' 'Slovenia'\n",
            " 'South Africa' 'Spain' 'Sri Lanka' 'Suriname' 'Sweden' 'Switzerland'\n",
            " 'Thailand' 'Trinidad and Tobago' 'Turkey' 'Turkmenistan' 'Ukraine'\n",
            " 'United Arab Emirates' 'United Kingdom' 'United States' 'Uruguay'\n",
            " 'Uzbekistan']\n",
            "year: [1985 1986 1987 1988 1989 1990 1991 1992 1993 1994 1995 1996 1997 1998\n",
            " 1999 2000 2001 2002 2003 2004 2005 2006 2007 2008 2009 2010 2011 2012\n",
            " 2013 2014 2015 2016]\n",
            "sex: ['female' 'male']\n",
            "age: ['15-24 years' '25-34 years' '35-54 years' '5-14 years' '55-74 years'\n",
            " '75+ years']\n",
            "suicides_no: [    0     1     2 ... 21262 21706 22338]\n",
            "population: [     278      286      287 ... 43509335 43607902 43805214]\n",
            "suicides/100k pop: [0.0000e+00 2.0000e-02 3.0000e-02 ... 1.8706e+02 2.0492e+02 2.2497e+02]\n",
            "country-year: ['Albania1987' 'Albania1988' 'Albania1989' ... 'Uzbekistan2012'\n",
            " 'Uzbekistan2013' 'Uzbekistan2014']\n",
            "HDI for year: [0.483 0.513 0.522 0.539 0.542 0.552 0.562 0.564 0.566 0.572 0.573 0.575\n",
            " 0.576 0.579 0.581 0.593 0.594 0.596 0.597 0.603 0.604 0.605 0.608 0.609\n",
            " 0.611 0.613 0.614 0.615 0.617 0.618 0.619 0.623 0.624 0.625 0.626 0.627\n",
            " 0.628 0.629 0.63  0.631 0.632 0.634 0.638 0.639 0.64  0.643 0.644 0.645\n",
            " 0.646 0.647 0.648 0.65  0.651 0.652 0.653 0.654 0.655 0.656 0.658 0.659\n",
            " 0.661 0.662 0.663 0.664 0.665 0.666 0.667 0.668 0.669 0.67  0.671 0.672\n",
            " 0.673 0.674 0.675 0.676 0.677 0.679 0.682 0.683 0.684 0.685 0.686 0.688\n",
            " 0.69  0.691 0.692 0.694 0.695 0.696 0.697 0.698 0.699 0.7   0.701 0.702\n",
            " 0.703 0.704 0.705 0.706 0.707 0.709 0.71  0.711 0.713 0.714 0.715 0.716\n",
            " 0.717 0.718 0.719 0.72  0.721 0.722 0.723 0.724 0.725 0.726 0.727 0.728\n",
            " 0.729 0.73  0.731 0.732 0.733 0.735 0.736 0.737 0.738 0.739 0.74  0.741\n",
            " 0.742 0.743 0.746 0.747 0.748 0.749 0.75  0.751 0.752 0.753 0.754 0.755\n",
            " 0.756 0.757 0.759 0.761 0.762 0.763 0.764 0.765 0.766 0.767 0.768 0.769\n",
            " 0.77  0.771 0.772 0.773 0.774 0.775 0.776 0.777 0.778 0.779 0.78  0.781\n",
            " 0.782 0.783 0.785 0.786 0.788 0.79  0.791 0.793 0.794 0.795 0.796 0.798\n",
            " 0.799 0.8   0.801 0.802 0.803 0.804 0.805 0.806 0.807 0.809 0.811 0.812\n",
            " 0.813 0.814 0.815 0.816 0.817 0.818 0.819 0.82  0.821 0.822 0.823 0.824\n",
            " 0.825 0.826 0.827 0.828 0.829 0.83  0.831 0.832 0.833 0.836 0.837 0.838\n",
            " 0.839 0.84  0.841 0.843 0.844 0.845 0.846 0.847 0.848 0.849 0.85  0.851\n",
            " 0.852 0.853 0.855 0.856 0.857 0.859 0.861 0.862 0.863 0.864 0.865 0.866\n",
            " 0.867 0.868 0.869 0.87  0.872 0.873 0.874 0.876 0.877 0.878 0.879 0.88\n",
            " 0.881 0.882 0.883 0.884 0.885 0.886 0.887 0.888 0.889 0.89  0.891 0.892\n",
            " 0.893 0.894 0.895 0.896 0.897 0.898 0.899 0.901 0.902 0.903 0.904 0.905\n",
            " 0.906 0.907 0.908 0.909 0.91  0.911 0.912 0.913 0.915 0.916 0.917 0.919\n",
            " 0.92  0.921 0.922 0.923 0.924 0.925 0.927 0.928 0.93  0.931 0.932 0.933\n",
            " 0.935 0.94  0.941 0.942 0.944   nan]\n",
            " gdp_for_year ($) : ['1,002,219,052,968' '1,011,797,457,139' '1,016,418,229' ...\n",
            " '99,886,577,331' '990,374,050' '997,007,926']\n",
            "gdp_per_capita ($): [   251    291    313 ... 121315 122729 126352]\n",
            "generation: ['Boomers' 'G.I. Generation' 'Generation X' 'Generation Z' 'Millenials'\n",
            " 'Silent']\n"
          ]
        }
      ]
    },
    {
      "cell_type": "markdown",
      "source": [
        "# Transformação dos dados"
      ],
      "metadata": {
        "id": "hmdaUHp7F2HE"
      }
    },
    {
      "cell_type": "markdown",
      "source": [
        "Para melhor leitura, altera-se o o nome dos atributos para português:"
      ],
      "metadata": {
        "id": "UAEH0J3JQ-af"
      }
    },
    {
      "cell_type": "code",
      "source": [
        "df.columns = ['pais', 'ano', 'genero', 'idade', 'suicidios', 'populacao', 'suicidios/100k_habitantes', 'pais/ano', 'IDH/ano', 'PIB/ano($)', 'PIB/capita($)', 'geracao']\n",
        "df.head(20)"
      ],
      "metadata": {
        "colab": {
          "base_uri": "https://localhost:8080/",
          "height": 676
        },
        "id": "MFSBnFfvF9tu",
        "outputId": "ec2c4d86-3e9e-4625-b722-2125179a572a"
      },
      "execution_count": 17,
      "outputs": [
        {
          "output_type": "execute_result",
          "data": {
            "text/plain": [
              "       pais   ano  genero        idade  suicidios  populacao  \\\n",
              "0   Albania  1987    male  15-24 years         21     312900   \n",
              "1   Albania  1987    male  35-54 years         16     308000   \n",
              "2   Albania  1987  female  15-24 years         14     289700   \n",
              "3   Albania  1987    male    75+ years          1      21800   \n",
              "4   Albania  1987    male  25-34 years          9     274300   \n",
              "5   Albania  1987  female    75+ years          1      35600   \n",
              "6   Albania  1987  female  35-54 years          6     278800   \n",
              "7   Albania  1987  female  25-34 years          4     257200   \n",
              "8   Albania  1987    male  55-74 years          1     137500   \n",
              "9   Albania  1987  female   5-14 years          0     311000   \n",
              "10  Albania  1987  female  55-74 years          0     144600   \n",
              "11  Albania  1987    male   5-14 years          0     338200   \n",
              "12  Albania  1988  female    75+ years          2      36400   \n",
              "13  Albania  1988    male  15-24 years         17     319200   \n",
              "14  Albania  1988    male    75+ years          1      22300   \n",
              "15  Albania  1988    male  35-54 years         14     314100   \n",
              "16  Albania  1988    male  55-74 years          4     140200   \n",
              "17  Albania  1988  female  15-24 years          8     295600   \n",
              "18  Albania  1988  female  55-74 years          3     147500   \n",
              "19  Albania  1988  female  25-34 years          5     262400   \n",
              "\n",
              "    suicidios/100k_habitantes     pais/ano  IDH/ano     PIB/ano($)  \\\n",
              "0                        6.71  Albania1987      NaN  2,156,624,900   \n",
              "1                        5.19  Albania1987      NaN  2,156,624,900   \n",
              "2                        4.83  Albania1987      NaN  2,156,624,900   \n",
              "3                        4.59  Albania1987      NaN  2,156,624,900   \n",
              "4                        3.28  Albania1987      NaN  2,156,624,900   \n",
              "5                        2.81  Albania1987      NaN  2,156,624,900   \n",
              "6                        2.15  Albania1987      NaN  2,156,624,900   \n",
              "7                        1.56  Albania1987      NaN  2,156,624,900   \n",
              "8                        0.73  Albania1987      NaN  2,156,624,900   \n",
              "9                        0.00  Albania1987      NaN  2,156,624,900   \n",
              "10                       0.00  Albania1987      NaN  2,156,624,900   \n",
              "11                       0.00  Albania1987      NaN  2,156,624,900   \n",
              "12                       5.49  Albania1988      NaN  2,126,000,000   \n",
              "13                       5.33  Albania1988      NaN  2,126,000,000   \n",
              "14                       4.48  Albania1988      NaN  2,126,000,000   \n",
              "15                       4.46  Albania1988      NaN  2,126,000,000   \n",
              "16                       2.85  Albania1988      NaN  2,126,000,000   \n",
              "17                       2.71  Albania1988      NaN  2,126,000,000   \n",
              "18                       2.03  Albania1988      NaN  2,126,000,000   \n",
              "19                       1.91  Albania1988      NaN  2,126,000,000   \n",
              "\n",
              "    PIB/capita($)          geracao  \n",
              "0             796     Generation X  \n",
              "1             796           Silent  \n",
              "2             796     Generation X  \n",
              "3             796  G.I. Generation  \n",
              "4             796          Boomers  \n",
              "5             796  G.I. Generation  \n",
              "6             796           Silent  \n",
              "7             796          Boomers  \n",
              "8             796  G.I. Generation  \n",
              "9             796     Generation X  \n",
              "10            796  G.I. Generation  \n",
              "11            796     Generation X  \n",
              "12            769  G.I. Generation  \n",
              "13            769     Generation X  \n",
              "14            769  G.I. Generation  \n",
              "15            769           Silent  \n",
              "16            769  G.I. Generation  \n",
              "17            769     Generation X  \n",
              "18            769  G.I. Generation  \n",
              "19            769          Boomers  "
            ],
            "text/html": [
              "\n",
              "  <div id=\"df-a9f2ec71-1f6e-484a-9fb5-237fc5eec95b\">\n",
              "    <div class=\"colab-df-container\">\n",
              "      <div>\n",
              "<style scoped>\n",
              "    .dataframe tbody tr th:only-of-type {\n",
              "        vertical-align: middle;\n",
              "    }\n",
              "\n",
              "    .dataframe tbody tr th {\n",
              "        vertical-align: top;\n",
              "    }\n",
              "\n",
              "    .dataframe thead th {\n",
              "        text-align: right;\n",
              "    }\n",
              "</style>\n",
              "<table border=\"1\" class=\"dataframe\">\n",
              "  <thead>\n",
              "    <tr style=\"text-align: right;\">\n",
              "      <th></th>\n",
              "      <th>pais</th>\n",
              "      <th>ano</th>\n",
              "      <th>genero</th>\n",
              "      <th>idade</th>\n",
              "      <th>suicidios</th>\n",
              "      <th>populacao</th>\n",
              "      <th>suicidios/100k_habitantes</th>\n",
              "      <th>pais/ano</th>\n",
              "      <th>IDH/ano</th>\n",
              "      <th>PIB/ano($)</th>\n",
              "      <th>PIB/capita($)</th>\n",
              "      <th>geracao</th>\n",
              "    </tr>\n",
              "  </thead>\n",
              "  <tbody>\n",
              "    <tr>\n",
              "      <th>0</th>\n",
              "      <td>Albania</td>\n",
              "      <td>1987</td>\n",
              "      <td>male</td>\n",
              "      <td>15-24 years</td>\n",
              "      <td>21</td>\n",
              "      <td>312900</td>\n",
              "      <td>6.71</td>\n",
              "      <td>Albania1987</td>\n",
              "      <td>NaN</td>\n",
              "      <td>2,156,624,900</td>\n",
              "      <td>796</td>\n",
              "      <td>Generation X</td>\n",
              "    </tr>\n",
              "    <tr>\n",
              "      <th>1</th>\n",
              "      <td>Albania</td>\n",
              "      <td>1987</td>\n",
              "      <td>male</td>\n",
              "      <td>35-54 years</td>\n",
              "      <td>16</td>\n",
              "      <td>308000</td>\n",
              "      <td>5.19</td>\n",
              "      <td>Albania1987</td>\n",
              "      <td>NaN</td>\n",
              "      <td>2,156,624,900</td>\n",
              "      <td>796</td>\n",
              "      <td>Silent</td>\n",
              "    </tr>\n",
              "    <tr>\n",
              "      <th>2</th>\n",
              "      <td>Albania</td>\n",
              "      <td>1987</td>\n",
              "      <td>female</td>\n",
              "      <td>15-24 years</td>\n",
              "      <td>14</td>\n",
              "      <td>289700</td>\n",
              "      <td>4.83</td>\n",
              "      <td>Albania1987</td>\n",
              "      <td>NaN</td>\n",
              "      <td>2,156,624,900</td>\n",
              "      <td>796</td>\n",
              "      <td>Generation X</td>\n",
              "    </tr>\n",
              "    <tr>\n",
              "      <th>3</th>\n",
              "      <td>Albania</td>\n",
              "      <td>1987</td>\n",
              "      <td>male</td>\n",
              "      <td>75+ years</td>\n",
              "      <td>1</td>\n",
              "      <td>21800</td>\n",
              "      <td>4.59</td>\n",
              "      <td>Albania1987</td>\n",
              "      <td>NaN</td>\n",
              "      <td>2,156,624,900</td>\n",
              "      <td>796</td>\n",
              "      <td>G.I. Generation</td>\n",
              "    </tr>\n",
              "    <tr>\n",
              "      <th>4</th>\n",
              "      <td>Albania</td>\n",
              "      <td>1987</td>\n",
              "      <td>male</td>\n",
              "      <td>25-34 years</td>\n",
              "      <td>9</td>\n",
              "      <td>274300</td>\n",
              "      <td>3.28</td>\n",
              "      <td>Albania1987</td>\n",
              "      <td>NaN</td>\n",
              "      <td>2,156,624,900</td>\n",
              "      <td>796</td>\n",
              "      <td>Boomers</td>\n",
              "    </tr>\n",
              "    <tr>\n",
              "      <th>5</th>\n",
              "      <td>Albania</td>\n",
              "      <td>1987</td>\n",
              "      <td>female</td>\n",
              "      <td>75+ years</td>\n",
              "      <td>1</td>\n",
              "      <td>35600</td>\n",
              "      <td>2.81</td>\n",
              "      <td>Albania1987</td>\n",
              "      <td>NaN</td>\n",
              "      <td>2,156,624,900</td>\n",
              "      <td>796</td>\n",
              "      <td>G.I. Generation</td>\n",
              "    </tr>\n",
              "    <tr>\n",
              "      <th>6</th>\n",
              "      <td>Albania</td>\n",
              "      <td>1987</td>\n",
              "      <td>female</td>\n",
              "      <td>35-54 years</td>\n",
              "      <td>6</td>\n",
              "      <td>278800</td>\n",
              "      <td>2.15</td>\n",
              "      <td>Albania1987</td>\n",
              "      <td>NaN</td>\n",
              "      <td>2,156,624,900</td>\n",
              "      <td>796</td>\n",
              "      <td>Silent</td>\n",
              "    </tr>\n",
              "    <tr>\n",
              "      <th>7</th>\n",
              "      <td>Albania</td>\n",
              "      <td>1987</td>\n",
              "      <td>female</td>\n",
              "      <td>25-34 years</td>\n",
              "      <td>4</td>\n",
              "      <td>257200</td>\n",
              "      <td>1.56</td>\n",
              "      <td>Albania1987</td>\n",
              "      <td>NaN</td>\n",
              "      <td>2,156,624,900</td>\n",
              "      <td>796</td>\n",
              "      <td>Boomers</td>\n",
              "    </tr>\n",
              "    <tr>\n",
              "      <th>8</th>\n",
              "      <td>Albania</td>\n",
              "      <td>1987</td>\n",
              "      <td>male</td>\n",
              "      <td>55-74 years</td>\n",
              "      <td>1</td>\n",
              "      <td>137500</td>\n",
              "      <td>0.73</td>\n",
              "      <td>Albania1987</td>\n",
              "      <td>NaN</td>\n",
              "      <td>2,156,624,900</td>\n",
              "      <td>796</td>\n",
              "      <td>G.I. Generation</td>\n",
              "    </tr>\n",
              "    <tr>\n",
              "      <th>9</th>\n",
              "      <td>Albania</td>\n",
              "      <td>1987</td>\n",
              "      <td>female</td>\n",
              "      <td>5-14 years</td>\n",
              "      <td>0</td>\n",
              "      <td>311000</td>\n",
              "      <td>0.00</td>\n",
              "      <td>Albania1987</td>\n",
              "      <td>NaN</td>\n",
              "      <td>2,156,624,900</td>\n",
              "      <td>796</td>\n",
              "      <td>Generation X</td>\n",
              "    </tr>\n",
              "    <tr>\n",
              "      <th>10</th>\n",
              "      <td>Albania</td>\n",
              "      <td>1987</td>\n",
              "      <td>female</td>\n",
              "      <td>55-74 years</td>\n",
              "      <td>0</td>\n",
              "      <td>144600</td>\n",
              "      <td>0.00</td>\n",
              "      <td>Albania1987</td>\n",
              "      <td>NaN</td>\n",
              "      <td>2,156,624,900</td>\n",
              "      <td>796</td>\n",
              "      <td>G.I. Generation</td>\n",
              "    </tr>\n",
              "    <tr>\n",
              "      <th>11</th>\n",
              "      <td>Albania</td>\n",
              "      <td>1987</td>\n",
              "      <td>male</td>\n",
              "      <td>5-14 years</td>\n",
              "      <td>0</td>\n",
              "      <td>338200</td>\n",
              "      <td>0.00</td>\n",
              "      <td>Albania1987</td>\n",
              "      <td>NaN</td>\n",
              "      <td>2,156,624,900</td>\n",
              "      <td>796</td>\n",
              "      <td>Generation X</td>\n",
              "    </tr>\n",
              "    <tr>\n",
              "      <th>12</th>\n",
              "      <td>Albania</td>\n",
              "      <td>1988</td>\n",
              "      <td>female</td>\n",
              "      <td>75+ years</td>\n",
              "      <td>2</td>\n",
              "      <td>36400</td>\n",
              "      <td>5.49</td>\n",
              "      <td>Albania1988</td>\n",
              "      <td>NaN</td>\n",
              "      <td>2,126,000,000</td>\n",
              "      <td>769</td>\n",
              "      <td>G.I. Generation</td>\n",
              "    </tr>\n",
              "    <tr>\n",
              "      <th>13</th>\n",
              "      <td>Albania</td>\n",
              "      <td>1988</td>\n",
              "      <td>male</td>\n",
              "      <td>15-24 years</td>\n",
              "      <td>17</td>\n",
              "      <td>319200</td>\n",
              "      <td>5.33</td>\n",
              "      <td>Albania1988</td>\n",
              "      <td>NaN</td>\n",
              "      <td>2,126,000,000</td>\n",
              "      <td>769</td>\n",
              "      <td>Generation X</td>\n",
              "    </tr>\n",
              "    <tr>\n",
              "      <th>14</th>\n",
              "      <td>Albania</td>\n",
              "      <td>1988</td>\n",
              "      <td>male</td>\n",
              "      <td>75+ years</td>\n",
              "      <td>1</td>\n",
              "      <td>22300</td>\n",
              "      <td>4.48</td>\n",
              "      <td>Albania1988</td>\n",
              "      <td>NaN</td>\n",
              "      <td>2,126,000,000</td>\n",
              "      <td>769</td>\n",
              "      <td>G.I. Generation</td>\n",
              "    </tr>\n",
              "    <tr>\n",
              "      <th>15</th>\n",
              "      <td>Albania</td>\n",
              "      <td>1988</td>\n",
              "      <td>male</td>\n",
              "      <td>35-54 years</td>\n",
              "      <td>14</td>\n",
              "      <td>314100</td>\n",
              "      <td>4.46</td>\n",
              "      <td>Albania1988</td>\n",
              "      <td>NaN</td>\n",
              "      <td>2,126,000,000</td>\n",
              "      <td>769</td>\n",
              "      <td>Silent</td>\n",
              "    </tr>\n",
              "    <tr>\n",
              "      <th>16</th>\n",
              "      <td>Albania</td>\n",
              "      <td>1988</td>\n",
              "      <td>male</td>\n",
              "      <td>55-74 years</td>\n",
              "      <td>4</td>\n",
              "      <td>140200</td>\n",
              "      <td>2.85</td>\n",
              "      <td>Albania1988</td>\n",
              "      <td>NaN</td>\n",
              "      <td>2,126,000,000</td>\n",
              "      <td>769</td>\n",
              "      <td>G.I. Generation</td>\n",
              "    </tr>\n",
              "    <tr>\n",
              "      <th>17</th>\n",
              "      <td>Albania</td>\n",
              "      <td>1988</td>\n",
              "      <td>female</td>\n",
              "      <td>15-24 years</td>\n",
              "      <td>8</td>\n",
              "      <td>295600</td>\n",
              "      <td>2.71</td>\n",
              "      <td>Albania1988</td>\n",
              "      <td>NaN</td>\n",
              "      <td>2,126,000,000</td>\n",
              "      <td>769</td>\n",
              "      <td>Generation X</td>\n",
              "    </tr>\n",
              "    <tr>\n",
              "      <th>18</th>\n",
              "      <td>Albania</td>\n",
              "      <td>1988</td>\n",
              "      <td>female</td>\n",
              "      <td>55-74 years</td>\n",
              "      <td>3</td>\n",
              "      <td>147500</td>\n",
              "      <td>2.03</td>\n",
              "      <td>Albania1988</td>\n",
              "      <td>NaN</td>\n",
              "      <td>2,126,000,000</td>\n",
              "      <td>769</td>\n",
              "      <td>G.I. Generation</td>\n",
              "    </tr>\n",
              "    <tr>\n",
              "      <th>19</th>\n",
              "      <td>Albania</td>\n",
              "      <td>1988</td>\n",
              "      <td>female</td>\n",
              "      <td>25-34 years</td>\n",
              "      <td>5</td>\n",
              "      <td>262400</td>\n",
              "      <td>1.91</td>\n",
              "      <td>Albania1988</td>\n",
              "      <td>NaN</td>\n",
              "      <td>2,126,000,000</td>\n",
              "      <td>769</td>\n",
              "      <td>Boomers</td>\n",
              "    </tr>\n",
              "  </tbody>\n",
              "</table>\n",
              "</div>\n",
              "      <button class=\"colab-df-convert\" onclick=\"convertToInteractive('df-a9f2ec71-1f6e-484a-9fb5-237fc5eec95b')\"\n",
              "              title=\"Convert this dataframe to an interactive table.\"\n",
              "              style=\"display:none;\">\n",
              "        \n",
              "  <svg xmlns=\"http://www.w3.org/2000/svg\" height=\"24px\"viewBox=\"0 0 24 24\"\n",
              "       width=\"24px\">\n",
              "    <path d=\"M0 0h24v24H0V0z\" fill=\"none\"/>\n",
              "    <path d=\"M18.56 5.44l.94 2.06.94-2.06 2.06-.94-2.06-.94-.94-2.06-.94 2.06-2.06.94zm-11 1L8.5 8.5l.94-2.06 2.06-.94-2.06-.94L8.5 2.5l-.94 2.06-2.06.94zm10 10l.94 2.06.94-2.06 2.06-.94-2.06-.94-.94-2.06-.94 2.06-2.06.94z\"/><path d=\"M17.41 7.96l-1.37-1.37c-.4-.4-.92-.59-1.43-.59-.52 0-1.04.2-1.43.59L10.3 9.45l-7.72 7.72c-.78.78-.78 2.05 0 2.83L4 21.41c.39.39.9.59 1.41.59.51 0 1.02-.2 1.41-.59l7.78-7.78 2.81-2.81c.8-.78.8-2.07 0-2.86zM5.41 20L4 18.59l7.72-7.72 1.47 1.35L5.41 20z\"/>\n",
              "  </svg>\n",
              "      </button>\n",
              "      \n",
              "  <style>\n",
              "    .colab-df-container {\n",
              "      display:flex;\n",
              "      flex-wrap:wrap;\n",
              "      gap: 12px;\n",
              "    }\n",
              "\n",
              "    .colab-df-convert {\n",
              "      background-color: #E8F0FE;\n",
              "      border: none;\n",
              "      border-radius: 50%;\n",
              "      cursor: pointer;\n",
              "      display: none;\n",
              "      fill: #1967D2;\n",
              "      height: 32px;\n",
              "      padding: 0 0 0 0;\n",
              "      width: 32px;\n",
              "    }\n",
              "\n",
              "    .colab-df-convert:hover {\n",
              "      background-color: #E2EBFA;\n",
              "      box-shadow: 0px 1px 2px rgba(60, 64, 67, 0.3), 0px 1px 3px 1px rgba(60, 64, 67, 0.15);\n",
              "      fill: #174EA6;\n",
              "    }\n",
              "\n",
              "    [theme=dark] .colab-df-convert {\n",
              "      background-color: #3B4455;\n",
              "      fill: #D2E3FC;\n",
              "    }\n",
              "\n",
              "    [theme=dark] .colab-df-convert:hover {\n",
              "      background-color: #434B5C;\n",
              "      box-shadow: 0px 1px 3px 1px rgba(0, 0, 0, 0.15);\n",
              "      filter: drop-shadow(0px 1px 2px rgba(0, 0, 0, 0.3));\n",
              "      fill: #FFFFFF;\n",
              "    }\n",
              "  </style>\n",
              "\n",
              "      <script>\n",
              "        const buttonEl =\n",
              "          document.querySelector('#df-a9f2ec71-1f6e-484a-9fb5-237fc5eec95b button.colab-df-convert');\n",
              "        buttonEl.style.display =\n",
              "          google.colab.kernel.accessAllowed ? 'block' : 'none';\n",
              "\n",
              "        async function convertToInteractive(key) {\n",
              "          const element = document.querySelector('#df-a9f2ec71-1f6e-484a-9fb5-237fc5eec95b');\n",
              "          const dataTable =\n",
              "            await google.colab.kernel.invokeFunction('convertToInteractive',\n",
              "                                                     [key], {});\n",
              "          if (!dataTable) return;\n",
              "\n",
              "          const docLinkHtml = 'Like what you see? Visit the ' +\n",
              "            '<a target=\"_blank\" href=https://colab.research.google.com/notebooks/data_table.ipynb>data table notebook</a>'\n",
              "            + ' to learn more about interactive tables.';\n",
              "          element.innerHTML = '';\n",
              "          dataTable['output_type'] = 'display_data';\n",
              "          await google.colab.output.renderOutput(dataTable, element);\n",
              "          const docLink = document.createElement('div');\n",
              "          docLink.innerHTML = docLinkHtml;\n",
              "          element.appendChild(docLink);\n",
              "        }\n",
              "      </script>\n",
              "    </div>\n",
              "  </div>\n",
              "  "
            ]
          },
          "metadata": {},
          "execution_count": 17
        }
      ]
    },
    {
      "cell_type": "markdown",
      "source": [
        "Como o atributo \"PIB/ano\" representa um valor inteiro em doláres, realiza-se a mudança do tipo do atributo de _string_ para inteiro:"
      ],
      "metadata": {
        "id": "HjvYuiOm5hY_"
      }
    },
    {
      "cell_type": "code",
      "source": [
        "df['PIB/ano($)'] = df['PIB/ano($)'].str.replace(',', '').astype(int)\n",
        "df"
      ],
      "metadata": {
        "colab": {
          "base_uri": "https://localhost:8080/",
          "height": 424
        },
        "id": "T-3O-JYj4FzV",
        "outputId": "f060181e-4b60-4489-b547-37e88c201487"
      },
      "execution_count": 18,
      "outputs": [
        {
          "output_type": "execute_result",
          "data": {
            "text/plain": [
              "             pais   ano  genero        idade  suicidios  populacao  \\\n",
              "0         Albania  1987    male  15-24 years         21     312900   \n",
              "1         Albania  1987    male  35-54 years         16     308000   \n",
              "2         Albania  1987  female  15-24 years         14     289700   \n",
              "3         Albania  1987    male    75+ years          1      21800   \n",
              "4         Albania  1987    male  25-34 years          9     274300   \n",
              "...           ...   ...     ...          ...        ...        ...   \n",
              "27815  Uzbekistan  2014  female  35-54 years        107    3620833   \n",
              "27816  Uzbekistan  2014  female    75+ years          9     348465   \n",
              "27817  Uzbekistan  2014    male   5-14 years         60    2762158   \n",
              "27818  Uzbekistan  2014  female   5-14 years         44    2631600   \n",
              "27819  Uzbekistan  2014  female  55-74 years         21    1438935   \n",
              "\n",
              "       suicidios/100k_habitantes        pais/ano  IDH/ano   PIB/ano($)  \\\n",
              "0                           6.71     Albania1987      NaN   2156624900   \n",
              "1                           5.19     Albania1987      NaN   2156624900   \n",
              "2                           4.83     Albania1987      NaN   2156624900   \n",
              "3                           4.59     Albania1987      NaN   2156624900   \n",
              "4                           3.28     Albania1987      NaN   2156624900   \n",
              "...                          ...             ...      ...          ...   \n",
              "27815                       2.96  Uzbekistan2014    0.675  63067077179   \n",
              "27816                       2.58  Uzbekistan2014    0.675  63067077179   \n",
              "27817                       2.17  Uzbekistan2014    0.675  63067077179   \n",
              "27818                       1.67  Uzbekistan2014    0.675  63067077179   \n",
              "27819                       1.46  Uzbekistan2014    0.675  63067077179   \n",
              "\n",
              "       PIB/capita($)          geracao  \n",
              "0                796     Generation X  \n",
              "1                796           Silent  \n",
              "2                796     Generation X  \n",
              "3                796  G.I. Generation  \n",
              "4                796          Boomers  \n",
              "...              ...              ...  \n",
              "27815           2309     Generation X  \n",
              "27816           2309           Silent  \n",
              "27817           2309     Generation Z  \n",
              "27818           2309     Generation Z  \n",
              "27819           2309          Boomers  \n",
              "\n",
              "[27820 rows x 12 columns]"
            ],
            "text/html": [
              "\n",
              "  <div id=\"df-e502274c-47cb-4611-a1cb-b76408f2672e\">\n",
              "    <div class=\"colab-df-container\">\n",
              "      <div>\n",
              "<style scoped>\n",
              "    .dataframe tbody tr th:only-of-type {\n",
              "        vertical-align: middle;\n",
              "    }\n",
              "\n",
              "    .dataframe tbody tr th {\n",
              "        vertical-align: top;\n",
              "    }\n",
              "\n",
              "    .dataframe thead th {\n",
              "        text-align: right;\n",
              "    }\n",
              "</style>\n",
              "<table border=\"1\" class=\"dataframe\">\n",
              "  <thead>\n",
              "    <tr style=\"text-align: right;\">\n",
              "      <th></th>\n",
              "      <th>pais</th>\n",
              "      <th>ano</th>\n",
              "      <th>genero</th>\n",
              "      <th>idade</th>\n",
              "      <th>suicidios</th>\n",
              "      <th>populacao</th>\n",
              "      <th>suicidios/100k_habitantes</th>\n",
              "      <th>pais/ano</th>\n",
              "      <th>IDH/ano</th>\n",
              "      <th>PIB/ano($)</th>\n",
              "      <th>PIB/capita($)</th>\n",
              "      <th>geracao</th>\n",
              "    </tr>\n",
              "  </thead>\n",
              "  <tbody>\n",
              "    <tr>\n",
              "      <th>0</th>\n",
              "      <td>Albania</td>\n",
              "      <td>1987</td>\n",
              "      <td>male</td>\n",
              "      <td>15-24 years</td>\n",
              "      <td>21</td>\n",
              "      <td>312900</td>\n",
              "      <td>6.71</td>\n",
              "      <td>Albania1987</td>\n",
              "      <td>NaN</td>\n",
              "      <td>2156624900</td>\n",
              "      <td>796</td>\n",
              "      <td>Generation X</td>\n",
              "    </tr>\n",
              "    <tr>\n",
              "      <th>1</th>\n",
              "      <td>Albania</td>\n",
              "      <td>1987</td>\n",
              "      <td>male</td>\n",
              "      <td>35-54 years</td>\n",
              "      <td>16</td>\n",
              "      <td>308000</td>\n",
              "      <td>5.19</td>\n",
              "      <td>Albania1987</td>\n",
              "      <td>NaN</td>\n",
              "      <td>2156624900</td>\n",
              "      <td>796</td>\n",
              "      <td>Silent</td>\n",
              "    </tr>\n",
              "    <tr>\n",
              "      <th>2</th>\n",
              "      <td>Albania</td>\n",
              "      <td>1987</td>\n",
              "      <td>female</td>\n",
              "      <td>15-24 years</td>\n",
              "      <td>14</td>\n",
              "      <td>289700</td>\n",
              "      <td>4.83</td>\n",
              "      <td>Albania1987</td>\n",
              "      <td>NaN</td>\n",
              "      <td>2156624900</td>\n",
              "      <td>796</td>\n",
              "      <td>Generation X</td>\n",
              "    </tr>\n",
              "    <tr>\n",
              "      <th>3</th>\n",
              "      <td>Albania</td>\n",
              "      <td>1987</td>\n",
              "      <td>male</td>\n",
              "      <td>75+ years</td>\n",
              "      <td>1</td>\n",
              "      <td>21800</td>\n",
              "      <td>4.59</td>\n",
              "      <td>Albania1987</td>\n",
              "      <td>NaN</td>\n",
              "      <td>2156624900</td>\n",
              "      <td>796</td>\n",
              "      <td>G.I. Generation</td>\n",
              "    </tr>\n",
              "    <tr>\n",
              "      <th>4</th>\n",
              "      <td>Albania</td>\n",
              "      <td>1987</td>\n",
              "      <td>male</td>\n",
              "      <td>25-34 years</td>\n",
              "      <td>9</td>\n",
              "      <td>274300</td>\n",
              "      <td>3.28</td>\n",
              "      <td>Albania1987</td>\n",
              "      <td>NaN</td>\n",
              "      <td>2156624900</td>\n",
              "      <td>796</td>\n",
              "      <td>Boomers</td>\n",
              "    </tr>\n",
              "    <tr>\n",
              "      <th>...</th>\n",
              "      <td>...</td>\n",
              "      <td>...</td>\n",
              "      <td>...</td>\n",
              "      <td>...</td>\n",
              "      <td>...</td>\n",
              "      <td>...</td>\n",
              "      <td>...</td>\n",
              "      <td>...</td>\n",
              "      <td>...</td>\n",
              "      <td>...</td>\n",
              "      <td>...</td>\n",
              "      <td>...</td>\n",
              "    </tr>\n",
              "    <tr>\n",
              "      <th>27815</th>\n",
              "      <td>Uzbekistan</td>\n",
              "      <td>2014</td>\n",
              "      <td>female</td>\n",
              "      <td>35-54 years</td>\n",
              "      <td>107</td>\n",
              "      <td>3620833</td>\n",
              "      <td>2.96</td>\n",
              "      <td>Uzbekistan2014</td>\n",
              "      <td>0.675</td>\n",
              "      <td>63067077179</td>\n",
              "      <td>2309</td>\n",
              "      <td>Generation X</td>\n",
              "    </tr>\n",
              "    <tr>\n",
              "      <th>27816</th>\n",
              "      <td>Uzbekistan</td>\n",
              "      <td>2014</td>\n",
              "      <td>female</td>\n",
              "      <td>75+ years</td>\n",
              "      <td>9</td>\n",
              "      <td>348465</td>\n",
              "      <td>2.58</td>\n",
              "      <td>Uzbekistan2014</td>\n",
              "      <td>0.675</td>\n",
              "      <td>63067077179</td>\n",
              "      <td>2309</td>\n",
              "      <td>Silent</td>\n",
              "    </tr>\n",
              "    <tr>\n",
              "      <th>27817</th>\n",
              "      <td>Uzbekistan</td>\n",
              "      <td>2014</td>\n",
              "      <td>male</td>\n",
              "      <td>5-14 years</td>\n",
              "      <td>60</td>\n",
              "      <td>2762158</td>\n",
              "      <td>2.17</td>\n",
              "      <td>Uzbekistan2014</td>\n",
              "      <td>0.675</td>\n",
              "      <td>63067077179</td>\n",
              "      <td>2309</td>\n",
              "      <td>Generation Z</td>\n",
              "    </tr>\n",
              "    <tr>\n",
              "      <th>27818</th>\n",
              "      <td>Uzbekistan</td>\n",
              "      <td>2014</td>\n",
              "      <td>female</td>\n",
              "      <td>5-14 years</td>\n",
              "      <td>44</td>\n",
              "      <td>2631600</td>\n",
              "      <td>1.67</td>\n",
              "      <td>Uzbekistan2014</td>\n",
              "      <td>0.675</td>\n",
              "      <td>63067077179</td>\n",
              "      <td>2309</td>\n",
              "      <td>Generation Z</td>\n",
              "    </tr>\n",
              "    <tr>\n",
              "      <th>27819</th>\n",
              "      <td>Uzbekistan</td>\n",
              "      <td>2014</td>\n",
              "      <td>female</td>\n",
              "      <td>55-74 years</td>\n",
              "      <td>21</td>\n",
              "      <td>1438935</td>\n",
              "      <td>1.46</td>\n",
              "      <td>Uzbekistan2014</td>\n",
              "      <td>0.675</td>\n",
              "      <td>63067077179</td>\n",
              "      <td>2309</td>\n",
              "      <td>Boomers</td>\n",
              "    </tr>\n",
              "  </tbody>\n",
              "</table>\n",
              "<p>27820 rows × 12 columns</p>\n",
              "</div>\n",
              "      <button class=\"colab-df-convert\" onclick=\"convertToInteractive('df-e502274c-47cb-4611-a1cb-b76408f2672e')\"\n",
              "              title=\"Convert this dataframe to an interactive table.\"\n",
              "              style=\"display:none;\">\n",
              "        \n",
              "  <svg xmlns=\"http://www.w3.org/2000/svg\" height=\"24px\"viewBox=\"0 0 24 24\"\n",
              "       width=\"24px\">\n",
              "    <path d=\"M0 0h24v24H0V0z\" fill=\"none\"/>\n",
              "    <path d=\"M18.56 5.44l.94 2.06.94-2.06 2.06-.94-2.06-.94-.94-2.06-.94 2.06-2.06.94zm-11 1L8.5 8.5l.94-2.06 2.06-.94-2.06-.94L8.5 2.5l-.94 2.06-2.06.94zm10 10l.94 2.06.94-2.06 2.06-.94-2.06-.94-.94-2.06-.94 2.06-2.06.94z\"/><path d=\"M17.41 7.96l-1.37-1.37c-.4-.4-.92-.59-1.43-.59-.52 0-1.04.2-1.43.59L10.3 9.45l-7.72 7.72c-.78.78-.78 2.05 0 2.83L4 21.41c.39.39.9.59 1.41.59.51 0 1.02-.2 1.41-.59l7.78-7.78 2.81-2.81c.8-.78.8-2.07 0-2.86zM5.41 20L4 18.59l7.72-7.72 1.47 1.35L5.41 20z\"/>\n",
              "  </svg>\n",
              "      </button>\n",
              "      \n",
              "  <style>\n",
              "    .colab-df-container {\n",
              "      display:flex;\n",
              "      flex-wrap:wrap;\n",
              "      gap: 12px;\n",
              "    }\n",
              "\n",
              "    .colab-df-convert {\n",
              "      background-color: #E8F0FE;\n",
              "      border: none;\n",
              "      border-radius: 50%;\n",
              "      cursor: pointer;\n",
              "      display: none;\n",
              "      fill: #1967D2;\n",
              "      height: 32px;\n",
              "      padding: 0 0 0 0;\n",
              "      width: 32px;\n",
              "    }\n",
              "\n",
              "    .colab-df-convert:hover {\n",
              "      background-color: #E2EBFA;\n",
              "      box-shadow: 0px 1px 2px rgba(60, 64, 67, 0.3), 0px 1px 3px 1px rgba(60, 64, 67, 0.15);\n",
              "      fill: #174EA6;\n",
              "    }\n",
              "\n",
              "    [theme=dark] .colab-df-convert {\n",
              "      background-color: #3B4455;\n",
              "      fill: #D2E3FC;\n",
              "    }\n",
              "\n",
              "    [theme=dark] .colab-df-convert:hover {\n",
              "      background-color: #434B5C;\n",
              "      box-shadow: 0px 1px 3px 1px rgba(0, 0, 0, 0.15);\n",
              "      filter: drop-shadow(0px 1px 2px rgba(0, 0, 0, 0.3));\n",
              "      fill: #FFFFFF;\n",
              "    }\n",
              "  </style>\n",
              "\n",
              "      <script>\n",
              "        const buttonEl =\n",
              "          document.querySelector('#df-e502274c-47cb-4611-a1cb-b76408f2672e button.colab-df-convert');\n",
              "        buttonEl.style.display =\n",
              "          google.colab.kernel.accessAllowed ? 'block' : 'none';\n",
              "\n",
              "        async function convertToInteractive(key) {\n",
              "          const element = document.querySelector('#df-e502274c-47cb-4611-a1cb-b76408f2672e');\n",
              "          const dataTable =\n",
              "            await google.colab.kernel.invokeFunction('convertToInteractive',\n",
              "                                                     [key], {});\n",
              "          if (!dataTable) return;\n",
              "\n",
              "          const docLinkHtml = 'Like what you see? Visit the ' +\n",
              "            '<a target=\"_blank\" href=https://colab.research.google.com/notebooks/data_table.ipynb>data table notebook</a>'\n",
              "            + ' to learn more about interactive tables.';\n",
              "          element.innerHTML = '';\n",
              "          dataTable['output_type'] = 'display_data';\n",
              "          await google.colab.output.renderOutput(dataTable, element);\n",
              "          const docLink = document.createElement('div');\n",
              "          docLink.innerHTML = docLinkHtml;\n",
              "          element.appendChild(docLink);\n",
              "        }\n",
              "      </script>\n",
              "    </div>\n",
              "  </div>\n",
              "  "
            ]
          },
          "metadata": {},
          "execution_count": 18
        }
      ]
    },
    {
      "cell_type": "markdown",
      "source": [
        "Informações estatísticas dos atributos numéricos do _dataset_:"
      ],
      "metadata": {
        "id": "gPUri7fqRzfu"
      }
    },
    {
      "cell_type": "code",
      "source": [
        "df.describe()"
      ],
      "metadata": {
        "colab": {
          "base_uri": "https://localhost:8080/",
          "height": 300
        },
        "id": "TwHdCtdASR-z",
        "outputId": "f68e4c1e-14f7-4050-9c2a-259e4a0e66e4"
      },
      "execution_count": 19,
      "outputs": [
        {
          "output_type": "execute_result",
          "data": {
            "text/plain": [
              "                ano     suicidios     populacao  suicidios/100k_habitantes  \\\n",
              "count  27820.000000  27820.000000  2.782000e+04               27820.000000   \n",
              "mean    2001.258375    242.574407  1.844794e+06                  12.816097   \n",
              "std        8.469055    902.047917  3.911779e+06                  18.961511   \n",
              "min     1985.000000      0.000000  2.780000e+02                   0.000000   \n",
              "25%     1995.000000      3.000000  9.749850e+04                   0.920000   \n",
              "50%     2002.000000     25.000000  4.301500e+05                   5.990000   \n",
              "75%     2008.000000    131.000000  1.486143e+06                  16.620000   \n",
              "max     2016.000000  22338.000000  4.380521e+07                 224.970000   \n",
              "\n",
              "           IDH/ano    PIB/ano($)  PIB/capita($)  \n",
              "count  8364.000000  2.782000e+04   27820.000000  \n",
              "mean      0.776601  4.455810e+11   16866.464414  \n",
              "std       0.093367  1.453610e+12   18887.576472  \n",
              "min       0.483000  4.691962e+07     251.000000  \n",
              "25%       0.713000  8.985353e+09    3447.000000  \n",
              "50%       0.779000  4.811469e+10    9372.000000  \n",
              "75%       0.855000  2.602024e+11   24874.000000  \n",
              "max       0.944000  1.812071e+13  126352.000000  "
            ],
            "text/html": [
              "\n",
              "  <div id=\"df-22038955-580b-4bb4-80a6-5abd63e513b1\">\n",
              "    <div class=\"colab-df-container\">\n",
              "      <div>\n",
              "<style scoped>\n",
              "    .dataframe tbody tr th:only-of-type {\n",
              "        vertical-align: middle;\n",
              "    }\n",
              "\n",
              "    .dataframe tbody tr th {\n",
              "        vertical-align: top;\n",
              "    }\n",
              "\n",
              "    .dataframe thead th {\n",
              "        text-align: right;\n",
              "    }\n",
              "</style>\n",
              "<table border=\"1\" class=\"dataframe\">\n",
              "  <thead>\n",
              "    <tr style=\"text-align: right;\">\n",
              "      <th></th>\n",
              "      <th>ano</th>\n",
              "      <th>suicidios</th>\n",
              "      <th>populacao</th>\n",
              "      <th>suicidios/100k_habitantes</th>\n",
              "      <th>IDH/ano</th>\n",
              "      <th>PIB/ano($)</th>\n",
              "      <th>PIB/capita($)</th>\n",
              "    </tr>\n",
              "  </thead>\n",
              "  <tbody>\n",
              "    <tr>\n",
              "      <th>count</th>\n",
              "      <td>27820.000000</td>\n",
              "      <td>27820.000000</td>\n",
              "      <td>2.782000e+04</td>\n",
              "      <td>27820.000000</td>\n",
              "      <td>8364.000000</td>\n",
              "      <td>2.782000e+04</td>\n",
              "      <td>27820.000000</td>\n",
              "    </tr>\n",
              "    <tr>\n",
              "      <th>mean</th>\n",
              "      <td>2001.258375</td>\n",
              "      <td>242.574407</td>\n",
              "      <td>1.844794e+06</td>\n",
              "      <td>12.816097</td>\n",
              "      <td>0.776601</td>\n",
              "      <td>4.455810e+11</td>\n",
              "      <td>16866.464414</td>\n",
              "    </tr>\n",
              "    <tr>\n",
              "      <th>std</th>\n",
              "      <td>8.469055</td>\n",
              "      <td>902.047917</td>\n",
              "      <td>3.911779e+06</td>\n",
              "      <td>18.961511</td>\n",
              "      <td>0.093367</td>\n",
              "      <td>1.453610e+12</td>\n",
              "      <td>18887.576472</td>\n",
              "    </tr>\n",
              "    <tr>\n",
              "      <th>min</th>\n",
              "      <td>1985.000000</td>\n",
              "      <td>0.000000</td>\n",
              "      <td>2.780000e+02</td>\n",
              "      <td>0.000000</td>\n",
              "      <td>0.483000</td>\n",
              "      <td>4.691962e+07</td>\n",
              "      <td>251.000000</td>\n",
              "    </tr>\n",
              "    <tr>\n",
              "      <th>25%</th>\n",
              "      <td>1995.000000</td>\n",
              "      <td>3.000000</td>\n",
              "      <td>9.749850e+04</td>\n",
              "      <td>0.920000</td>\n",
              "      <td>0.713000</td>\n",
              "      <td>8.985353e+09</td>\n",
              "      <td>3447.000000</td>\n",
              "    </tr>\n",
              "    <tr>\n",
              "      <th>50%</th>\n",
              "      <td>2002.000000</td>\n",
              "      <td>25.000000</td>\n",
              "      <td>4.301500e+05</td>\n",
              "      <td>5.990000</td>\n",
              "      <td>0.779000</td>\n",
              "      <td>4.811469e+10</td>\n",
              "      <td>9372.000000</td>\n",
              "    </tr>\n",
              "    <tr>\n",
              "      <th>75%</th>\n",
              "      <td>2008.000000</td>\n",
              "      <td>131.000000</td>\n",
              "      <td>1.486143e+06</td>\n",
              "      <td>16.620000</td>\n",
              "      <td>0.855000</td>\n",
              "      <td>2.602024e+11</td>\n",
              "      <td>24874.000000</td>\n",
              "    </tr>\n",
              "    <tr>\n",
              "      <th>max</th>\n",
              "      <td>2016.000000</td>\n",
              "      <td>22338.000000</td>\n",
              "      <td>4.380521e+07</td>\n",
              "      <td>224.970000</td>\n",
              "      <td>0.944000</td>\n",
              "      <td>1.812071e+13</td>\n",
              "      <td>126352.000000</td>\n",
              "    </tr>\n",
              "  </tbody>\n",
              "</table>\n",
              "</div>\n",
              "      <button class=\"colab-df-convert\" onclick=\"convertToInteractive('df-22038955-580b-4bb4-80a6-5abd63e513b1')\"\n",
              "              title=\"Convert this dataframe to an interactive table.\"\n",
              "              style=\"display:none;\">\n",
              "        \n",
              "  <svg xmlns=\"http://www.w3.org/2000/svg\" height=\"24px\"viewBox=\"0 0 24 24\"\n",
              "       width=\"24px\">\n",
              "    <path d=\"M0 0h24v24H0V0z\" fill=\"none\"/>\n",
              "    <path d=\"M18.56 5.44l.94 2.06.94-2.06 2.06-.94-2.06-.94-.94-2.06-.94 2.06-2.06.94zm-11 1L8.5 8.5l.94-2.06 2.06-.94-2.06-.94L8.5 2.5l-.94 2.06-2.06.94zm10 10l.94 2.06.94-2.06 2.06-.94-2.06-.94-.94-2.06-.94 2.06-2.06.94z\"/><path d=\"M17.41 7.96l-1.37-1.37c-.4-.4-.92-.59-1.43-.59-.52 0-1.04.2-1.43.59L10.3 9.45l-7.72 7.72c-.78.78-.78 2.05 0 2.83L4 21.41c.39.39.9.59 1.41.59.51 0 1.02-.2 1.41-.59l7.78-7.78 2.81-2.81c.8-.78.8-2.07 0-2.86zM5.41 20L4 18.59l7.72-7.72 1.47 1.35L5.41 20z\"/>\n",
              "  </svg>\n",
              "      </button>\n",
              "      \n",
              "  <style>\n",
              "    .colab-df-container {\n",
              "      display:flex;\n",
              "      flex-wrap:wrap;\n",
              "      gap: 12px;\n",
              "    }\n",
              "\n",
              "    .colab-df-convert {\n",
              "      background-color: #E8F0FE;\n",
              "      border: none;\n",
              "      border-radius: 50%;\n",
              "      cursor: pointer;\n",
              "      display: none;\n",
              "      fill: #1967D2;\n",
              "      height: 32px;\n",
              "      padding: 0 0 0 0;\n",
              "      width: 32px;\n",
              "    }\n",
              "\n",
              "    .colab-df-convert:hover {\n",
              "      background-color: #E2EBFA;\n",
              "      box-shadow: 0px 1px 2px rgba(60, 64, 67, 0.3), 0px 1px 3px 1px rgba(60, 64, 67, 0.15);\n",
              "      fill: #174EA6;\n",
              "    }\n",
              "\n",
              "    [theme=dark] .colab-df-convert {\n",
              "      background-color: #3B4455;\n",
              "      fill: #D2E3FC;\n",
              "    }\n",
              "\n",
              "    [theme=dark] .colab-df-convert:hover {\n",
              "      background-color: #434B5C;\n",
              "      box-shadow: 0px 1px 3px 1px rgba(0, 0, 0, 0.15);\n",
              "      filter: drop-shadow(0px 1px 2px rgba(0, 0, 0, 0.3));\n",
              "      fill: #FFFFFF;\n",
              "    }\n",
              "  </style>\n",
              "\n",
              "      <script>\n",
              "        const buttonEl =\n",
              "          document.querySelector('#df-22038955-580b-4bb4-80a6-5abd63e513b1 button.colab-df-convert');\n",
              "        buttonEl.style.display =\n",
              "          google.colab.kernel.accessAllowed ? 'block' : 'none';\n",
              "\n",
              "        async function convertToInteractive(key) {\n",
              "          const element = document.querySelector('#df-22038955-580b-4bb4-80a6-5abd63e513b1');\n",
              "          const dataTable =\n",
              "            await google.colab.kernel.invokeFunction('convertToInteractive',\n",
              "                                                     [key], {});\n",
              "          if (!dataTable) return;\n",
              "\n",
              "          const docLinkHtml = 'Like what you see? Visit the ' +\n",
              "            '<a target=\"_blank\" href=https://colab.research.google.com/notebooks/data_table.ipynb>data table notebook</a>'\n",
              "            + ' to learn more about interactive tables.';\n",
              "          element.innerHTML = '';\n",
              "          dataTable['output_type'] = 'display_data';\n",
              "          await google.colab.output.renderOutput(dataTable, element);\n",
              "          const docLink = document.createElement('div');\n",
              "          docLink.innerHTML = docLinkHtml;\n",
              "          element.appendChild(docLink);\n",
              "        }\n",
              "      </script>\n",
              "    </div>\n",
              "  </div>\n",
              "  "
            ]
          },
          "metadata": {},
          "execution_count": 19
        }
      ]
    },
    {
      "cell_type": "markdown",
      "source": [
        "# Descrição do Conjunto de Dados\n",
        "\n",
        "\n",
        "*   Países estudados\n",
        "  *  101 paises foram abordados\n",
        "\n",
        "*   Anos em que ocorreram os casos\n",
        "  * 1987 a 2016\n",
        "\n",
        "*   Gêneros considerados nos registros\n",
        "  * Masculino\n",
        "  * Feminino\n",
        "\n",
        "*   Faixa Etária \n",
        "  *  5-14 anos\n",
        "  *  15-24 anos\n",
        "  *  25-34 anos\n",
        "  *  35-54 anos\n",
        "  *  55-74 anos\n",
        "  *  75+ anos\n",
        "  \n",
        "*   Suicídios - Numero de casos registrados\n",
        "\n",
        "*   População - População para o grupo\n",
        "\n",
        "*   Suicídios/100k_habitantes - Números de suicídios a cada 100 mil habitantes\n",
        "*   País/ano - Indentificador de país e ano\n",
        "*   IDH - Índice de Desenvolvimento Humano para o ano\n",
        "*   PIB/ano(\\$) - Produto Interno Bruto por ano em doláres\n",
        "*   PIB/capita(\\$) - Produto Interno Bruto per capita (dividido pela população) em doláres\n",
        "\n",
        "__***GERAÇÕES***__:\n",
        "\n",
        "**Geração G.I.:**\n",
        "\n",
        "Esta geração experimentou grande parte de sua juventude durante a rápida inovação tecnológica (rádio, telefone) em meio a níveis crescentes de desigualdade de renda mundial e uma economia em expansão. Depois que o mercado de ações quebrou, esta geração experimentou profunda turbulência econômica e social e, eventualmente, a Segunda Guerra Mundial.\n",
        "\n",
        "**Geração Silent:**\n",
        "\n",
        "A Geração Silenciosa são os filhos da Grande Depressão, cujos pais, depois de se deleitarem com o auge dos anos 20, agora enfrentavam grandes dificuldades econômicas e lutavam para sustentar suas famílias. Antes de chegar à adolescência, eles compartilharam com seus pais os horrores da Segunda Guerra Mundial, mas através dos olhos das crianças. Muitos perderam seus pais ou irmãos mais velhos que foram mortos na guerra. Eles viram a queda do nazismo e a devastação catastrófica da bomba nuclear.\n",
        "\n",
        "Ao contrário da geração anterior, que lutou por “mudar o sistema”, a Geração Silenciosa tratava de “trabalhar dentro do sistema”. Eles fizeram isso mantendo a cabeça baixa e trabalhando duro, ganhando assim o rótulo de “silencioso”. Suas atitudes tendiam a não assumir riscos e jogar pelo seguro.\n",
        "\n",
        "**Geração Baby Bommers:**\n",
        "\n",
        "São fruto de uma explosão populacional ocorrida logo após o fim da Segunda Guerra Mundial, quando os combatentes, finalmente puderam voltar para suas casas e constituir uma família. No Brasil, esses anos coincidem com o desenvolvimentismo, quando Juscelino Kubitschek prometia “50 anos em 5” e a Tropicália movimentava o cenário cultural brasileiro. O país vivia uma fase de otimismo! Segundo estudos, trata-se de uma geração idealista, combativa, disciplinada e com espírito coletivo, responsável por iniciar as lutas por direitos civis e políticos.\n",
        "\n",
        "**Geração X:**\n",
        "\n",
        "A geração X, que hoje tem entre 36 e 55 anos de idade, cresceu no período de Guerra Fria e foi a primeira a experimentar os avanços tecnológicos. Valorizam o trabalho e estabilidade financeira. São independentes e empreendedores. Pessoas que buscam por seus direitos, procuram liberdade e tem ruptura com as regras e valores da geração anterior.\n",
        "\n",
        "Essas pessoas ainda guardam muitas das características dos Baby Boomers, como a busca pela estabilidade na carreira, a disciplina e o respeito pela hierarquia. Mas eles também reforçam a ideia de liberdade de serem e curtirem o que quiserem.\n",
        "\n",
        "**Geração Y (Millenials):**\n",
        "\n",
        "Nascida entre 1985 e 1995 e atualmente com 25 a 35 anos, a Geração Y (os millennials) nasceu com a informática e a globalização e, com esses fenômenos, transformou o mundo. Esse grupo viu a internet nascer, o mundo se tornar mais veloz e a informação circular rapidamente em questão de segundos.\n",
        "\n",
        "Porém, eles também são caracterizados como imediatistas. Já que viram o mundo acelerar, eles querem ter o que desejam o mais rápido possível — seja o sucesso na carreira, seja uma mensagem no celular. Com isso, também aumentam os níveis de medo e ansiedade dessa geração, que enfrenta sérios problemas psicológicos.\n",
        "\n",
        "**Geração Z:**\n",
        "\n",
        "Nascida entre 1995 e 2010, atualmente com 10 a 25 anos, a Geração Z já nasceu em um mundo conectado e cresceu com um celular na mão por isso também são chamados de “nativos digitais”. Para eles, não existe divisão entre online e offline, já que estão conectados a todo momento, em todo lugar.\n",
        "\n",
        "Eles são extremamente ágeis, multitarefas e capazes de absorver uma grande quantidade de informações afinal, vivem na era do big data, da explosão de dados e precisam saber como lidar com eles. Se a Geração Y já se preocupa com as questões ambientais e sociais, a Geração Z vai além e transforma a preocupação em ativismo.\n",
        "\n",
        "Referência: [Quais são as gerações? Entenda as características comportamentais](https://www.siteware.com.br/gestao-estrategica/quais-sao-as-geracoes/)"
      ],
      "metadata": {
        "id": "SB33VkdNbHTE"
      }
    },
    {
      "cell_type": "markdown",
      "source": [
        "# Gráficos"
      ],
      "metadata": {
        "id": "6OLfSEO6vhcJ"
      }
    },
    {
      "cell_type": "markdown",
      "source": [
        "## Mundo"
      ],
      "metadata": {
        "id": "4iRZJOgOFA0M"
      }
    },
    {
      "cell_type": "markdown",
      "source": [
        "Para avaliar os dados, adota-se o agrupamento por país, ano, gênero e geração pelo método de média dos atributos 'populacao', 'suicidios/100k_habitantes', 'suicidios', 'PIB/ano(\\$)' e 'PIB/capita(\\$)'."
      ],
      "metadata": {
        "id": "Es50lYEPGSvF"
      }
    },
    {
      "cell_type": "markdown",
      "source": [
        "### Por país"
      ],
      "metadata": {
        "id": "VroMB4XIwk_d"
      }
    },
    {
      "cell_type": "code",
      "source": [
        "mundo_casos_por_pais = df[['pais', 'populacao', 'suicidios/100k_habitantes', 'suicidios', 'PIB/ano($)', 'PIB/capita($)']]\n",
        "mundo_casos_por_pais = mundo_casos_por_pais.groupby('pais').mean()\n",
        "mundo_maior_taxa_pais = mundo_casos_por_pais.sort_values('suicidios/100k_habitantes', ascending=False).head(10)\n",
        "mundo_maior_quantidade_pais = mundo_casos_por_pais.sort_values('suicidios', ascending=False).head(10)"
      ],
      "metadata": {
        "id": "dtIcT9ZmNWT5"
      },
      "execution_count": 20,
      "outputs": []
    },
    {
      "cell_type": "code",
      "source": [
        "plt.figure(figsize=(15,8))\n",
        "sns.barplot(data=mundo_maior_taxa_pais, x=mundo_maior_taxa_pais.index, y='suicidios/100k_habitantes')\n",
        "plt.xticks(rotation=45, ha='right', rotation_mode='anchor')\n",
        "plt.title('Países com maiores médias de taxas de suicídio', size=17)\n",
        "plt.show()"
      ],
      "metadata": {
        "colab": {
          "base_uri": "https://localhost:8080/",
          "height": 581
        },
        "id": "XtxLpbxpP41m",
        "outputId": "fdb29c9d-9d5d-49e7-bf2a-bc17af935f63"
      },
      "execution_count": 21,
      "outputs": [
        {
          "output_type": "display_data",
          "data": {
            "text/plain": [
              "<Figure size 1080x576 with 1 Axes>"
            ],
            "image/png": "[encoded data removed]"
          },
          "metadata": {
            "needs_background": "light"
          }
        }
      ]
    },
    {
      "cell_type": "code",
      "source": [
        "plt.figure(figsize=(15,8))\n",
        "sns.barplot(data=mundo_maior_quantidade_pais, x=mundo_maior_quantidade_pais.index, y='suicidios')\n",
        "plt.xticks(rotation=45, ha='right', rotation_mode='anchor')\n",
        "plt.title('Países com maiores médias de suicídio', size=17)\n",
        "plt.show()"
      ],
      "metadata": {
        "colab": {
          "base_uri": "https://localhost:8080/",
          "height": 581
        },
        "id": "91SPuanhPWf1",
        "outputId": "60653ca5-1909-4b33-fad2-5fd9553ad0af"
      },
      "execution_count": 22,
      "outputs": [
        {
          "output_type": "display_data",
          "data": {
            "text/plain": [
              "<Figure size 1080x576 with 1 Axes>"
            ],
            "image/png": "[encoded data removed]"
          },
          "metadata": {
            "needs_background": "light"
          }
        }
      ]
    },
    {
      "cell_type": "markdown",
      "source": [
        "### Por ano"
      ],
      "metadata": {
        "id": "N44M6ZEsw3Le"
      }
    },
    {
      "cell_type": "code",
      "source": [
        "mundo_casos_por_ano = df[['ano', 'populacao', 'suicidios/100k_habitantes', 'suicidios', 'PIB/ano($)', 'PIB/capita($)']]\n",
        "mundo_casos_por_ano = mundo_casos_por_ano.groupby('ano').mean()\n",
        "mundo_maior_taxa_ano = mundo_casos_por_ano.sort_values('suicidios/100k_habitantes', ascending=False).head(10)\n",
        "mundo_maior_quantidade_ano = mundo_casos_por_ano.sort_values('suicidios', ascending=False).head(10)"
      ],
      "metadata": {
        "id": "MtOIUNweRKMS"
      },
      "execution_count": 23,
      "outputs": []
    },
    {
      "cell_type": "code",
      "source": [
        "plt.figure(figsize=(15,8))\n",
        "sns.barplot(data=mundo_maior_taxa_ano, y=mundo_maior_taxa_ano.index.astype(str), x='suicidios/100k_habitantes')\n",
        "plt.title('Países com maiores médias de taxas de suicídio por', size=17)\n",
        "plt.show()"
      ],
      "metadata": {
        "colab": {
          "base_uri": "https://localhost:8080/",
          "height": 518
        },
        "id": "-l5Cj_opSYE2",
        "outputId": "0ba73936-e26c-4e6b-ce5b-258025400a7b"
      },
      "execution_count": 24,
      "outputs": [
        {
          "output_type": "display_data",
          "data": {
            "text/plain": [
              "<Figure size 1080x576 with 1 Axes>"
            ],
            "image/png": "[encoded data removed]"
          },
          "metadata": {
            "needs_background": "light"
          }
        }
      ]
    },
    {
      "cell_type": "code",
      "source": [
        "plt.figure(figsize=(15,8))\n",
        "sns.barplot(data=mundo_maior_quantidade_ano, x='suicidios', y=mundo_maior_quantidade_ano.index.astype(str))\n",
        "plt.title('Anos com maiores médias de suicídio', size=17)\n",
        "plt.show()"
      ],
      "metadata": {
        "colab": {
          "base_uri": "https://localhost:8080/",
          "height": 517
        },
        "id": "JH1xhb6VRSS2",
        "outputId": "6c012bfa-5e76-45af-b434-76c889241ccb"
      },
      "execution_count": 25,
      "outputs": [
        {
          "output_type": "display_data",
          "data": {
            "text/plain": [
              "<Figure size 1080x576 with 1 Axes>"
            ],
            "image/png": "[encoded data removed]"
          },
          "metadata": {
            "needs_background": "light"
          }
        }
      ]
    },
    {
      "cell_type": "markdown",
      "source": [
        "### Por geração"
      ],
      "metadata": {
        "id": "5GjozlTjw6kX"
      }
    },
    {
      "cell_type": "code",
      "source": [
        "mundo_casos_por_geracao = df[['geracao', 'populacao', 'suicidios/100k_habitantes', 'suicidios', 'PIB/ano($)', 'PIB/capita($)']]\n",
        "mundo_casos_por_geracao = mundo_casos_por_geracao.groupby('geracao').mean()\n",
        "mundo_maior_taxa_geracao = mundo_casos_por_geracao.sort_values('suicidios/100k_habitantes', ascending=False).head(10)\n",
        "mundo_maior_quantidade_geracao = mundo_casos_por_geracao.sort_values('suicidios', ascending=False).head(10)"
      ],
      "metadata": {
        "id": "nQXrPOlEt5ob"
      },
      "execution_count": 26,
      "outputs": []
    },
    {
      "cell_type": "code",
      "source": [
        "plt.figure(figsize=(15,8))\n",
        "sns.barplot(data=mundo_maior_taxa_geracao, x=mundo_maior_taxa_geracao.index, y='suicidios/100k_habitantes')\n",
        "plt.xticks(rotation=45, ha='right', rotation_mode='anchor')\n",
        "plt.title('Gêneros com maiores médias de taxas de suicídio', size=17)\n",
        "plt.show()"
      ],
      "metadata": {
        "colab": {
          "base_uri": "https://localhost:8080/",
          "height": 568
        },
        "id": "l_rBHpGUamFb",
        "outputId": "1a39189e-aca8-4551-dc9d-3df600288b6f"
      },
      "execution_count": 27,
      "outputs": [
        {
          "output_type": "display_data",
          "data": {
            "text/plain": [
              "<Figure size 1080x576 with 1 Axes>"
            ],
            "image/png": "[encoded data removed]"
          },
          "metadata": {
            "needs_background": "light"
          }
        }
      ]
    },
    {
      "cell_type": "code",
      "source": [
        "plt.figure(figsize=(15,8))\n",
        "sns.barplot(data=mundo_maior_quantidade_geracao, x=mundo_maior_quantidade_geracao.index.to_list(), y='suicidios')\n",
        "plt.xticks(rotation=45, ha='right', rotation_mode='anchor')\n",
        "plt.title('Gêneros com maiores médias de suicídio', size=17)\n",
        "plt.show()"
      ],
      "metadata": {
        "colab": {
          "base_uri": "https://localhost:8080/",
          "height": 554
        },
        "id": "UthjQ7a_afBR",
        "outputId": "974555a9-9e1e-4034-e8d4-45b6f81dd8c9"
      },
      "execution_count": 28,
      "outputs": [
        {
          "output_type": "display_data",
          "data": {
            "text/plain": [
              "<Figure size 1080x576 with 1 Axes>"
            ],
            "image/png": "[encoded data removed]"
          },
          "metadata": {
            "needs_background": "light"
          }
        }
      ]
    },
    {
      "cell_type": "markdown",
      "source": [
        "### Por gênero"
      ],
      "metadata": {
        "id": "YbxZ6wXgw-6g"
      }
    },
    {
      "cell_type": "code",
      "source": [
        "mundo_casos_por_genero = df[['genero', 'populacao', 'suicidios/100k_habitantes', 'suicidios', 'PIB/ano($)', 'PIB/capita($)']]\n",
        "mundo_casos_por_genero = mundo_casos_por_genero.groupby('genero').mean()\n",
        "mundo_maior_taxa_genero = mundo_casos_por_genero.sort_values('suicidios/100k_habitantes', ascending=False).head(10)\n",
        "mundo_maior_quantidade_genero = mundo_casos_por_genero.sort_values('suicidios', ascending=False).head(10)"
      ],
      "metadata": {
        "id": "BNAQdx2NZsru"
      },
      "execution_count": 29,
      "outputs": []
    },
    {
      "cell_type": "code",
      "source": [
        "plt.figure(figsize=(15,8))\n",
        "sns.barplot(data=mundo_maior_taxa_genero, x=mundo_maior_taxa_genero.index, y='suicidios/100k_habitantes')\n",
        "plt.xticks(rotation=45, ha='right', rotation_mode='anchor')\n",
        "plt.title('Gêneros com maiores médias de taxas de suicídio', size=17)\n",
        "plt.show()"
      ],
      "metadata": {
        "colab": {
          "base_uri": "https://localhost:8080/",
          "height": 538
        },
        "id": "t_ewSQugu6SP",
        "outputId": "21df59dc-61db-4984-b0f8-b0e0c4461378"
      },
      "execution_count": 30,
      "outputs": [
        {
          "output_type": "display_data",
          "data": {
            "text/plain": [
              "<Figure size 1080x576 with 1 Axes>"
            ],
            "image/png": "[encoded data removed]"
          },
          "metadata": {
            "needs_background": "light"
          }
        }
      ]
    },
    {
      "cell_type": "code",
      "source": [
        "plt.figure(figsize=(15,8))\n",
        "sns.barplot(data=mundo_maior_quantidade_genero, x=mundo_maior_quantidade_genero.index.to_list(), y='suicidios')\n",
        "plt.xticks(rotation=45, ha='right', rotation_mode='anchor')\n",
        "plt.title('Gêneros com maiores médias de suicídio', size=17)\n",
        "plt.show()"
      ],
      "metadata": {
        "colab": {
          "base_uri": "https://localhost:8080/",
          "height": 524
        },
        "id": "2vkOKeRIu1Ln",
        "outputId": "58519a91-9eeb-4368-9e35-d10f66623e6a"
      },
      "execution_count": 31,
      "outputs": [
        {
          "output_type": "display_data",
          "data": {
            "text/plain": [
              "<Figure size 1080x576 with 1 Axes>"
            ],
            "image/png": "[encoded data removed]"
          },
          "metadata": {
            "needs_background": "light"
          }
        }
      ]
    },
    {
      "cell_type": "markdown",
      "source": [
        "Pode-se ver que tanto na quantidade como na taxa, os homens possuem maior tendência em se suicidar."
      ],
      "metadata": {
        "id": "gHpF-iw6ausd"
      }
    },
    {
      "cell_type": "markdown",
      "source": [
        "## Brasil"
      ],
      "metadata": {
        "id": "t9PUEpsoFQYQ"
      }
    },
    {
      "cell_type": "markdown",
      "source": [
        "Cria-se um novo _dataframe_, somente com os valores referentes ao Brasil:"
      ],
      "metadata": {
        "id": "XcaeWEe53Dln"
      }
    },
    {
      "cell_type": "code",
      "source": [
        "df_brasil = df[df.pais == \"Brazil\"].copy().reset_index(drop=True).drop(['pais', 'pais/ano'], axis=1) # usa-se .copy() pois caso não use, uma mudança no dataframe original resulta em uma mudança na cópia e vice-versa\n",
        "df_brasil"
      ],
      "metadata": {
        "colab": {
          "base_uri": "https://localhost:8080/",
          "height": 424
        },
        "id": "Ulg0By9wB-vj",
        "outputId": "e14c8e1e-374c-43fc-c535-2e661a8afc99"
      },
      "execution_count": 32,
      "outputs": [
        {
          "output_type": "execute_result",
          "data": {
            "text/plain": [
              "      ano  genero        idade  suicidios  populacao  \\\n",
              "0    1985    male    75+ years        129     840300   \n",
              "1    1985    male  55-74 years        535    5364900   \n",
              "2    1985    male  35-54 years       1011   11986300   \n",
              "3    1985    male  25-34 years        791   10762900   \n",
              "4    1985    male  15-24 years        661   13834000   \n",
              "..    ...     ...          ...        ...        ...   \n",
              "367  2015  female  25-34 years        466   17546090   \n",
              "368  2015  female    75+ years         89    3802086   \n",
              "369  2015  female  15-24 years        397   17047218   \n",
              "370  2015    male   5-14 years         79   16057040   \n",
              "371  2015  female   5-14 years         56   15430579   \n",
              "\n",
              "     suicidios/100k_habitantes  IDH/ano     PIB/ano($)  PIB/capita($)  \\\n",
              "0                        15.35    0.576   222942790435           1898   \n",
              "1                         9.97    0.576   222942790435           1898   \n",
              "2                         8.43    0.576   222942790435           1898   \n",
              "3                         7.35    0.576   222942790435           1898   \n",
              "4                         4.78    0.576   222942790435           1898   \n",
              "..                         ...      ...            ...            ...   \n",
              "367                       2.66      NaN  1802214373741           9431   \n",
              "368                       2.34      NaN  1802214373741           9431   \n",
              "369                       2.33      NaN  1802214373741           9431   \n",
              "370                       0.49      NaN  1802214373741           9431   \n",
              "371                       0.36      NaN  1802214373741           9431   \n",
              "\n",
              "             geracao  \n",
              "0    G.I. Generation  \n",
              "1    G.I. Generation  \n",
              "2             Silent  \n",
              "3            Boomers  \n",
              "4       Generation X  \n",
              "..               ...  \n",
              "367       Millenials  \n",
              "368           Silent  \n",
              "369       Millenials  \n",
              "370     Generation Z  \n",
              "371     Generation Z  \n",
              "\n",
              "[372 rows x 10 columns]"
            ],
            "text/html": [
              "\n",
              "  <div id=\"df-abec257d-a7ca-4974-ace5-598686bfc99a\">\n",
              "    <div class=\"colab-df-container\">\n",
              "      <div>\n",
              "<style scoped>\n",
              "    .dataframe tbody tr th:only-of-type {\n",
              "        vertical-align: middle;\n",
              "    }\n",
              "\n",
              "    .dataframe tbody tr th {\n",
              "        vertical-align: top;\n",
              "    }\n",
              "\n",
              "    .dataframe thead th {\n",
              "        text-align: right;\n",
              "    }\n",
              "</style>\n",
              "<table border=\"1\" class=\"dataframe\">\n",
              "  <thead>\n",
              "    <tr style=\"text-align: right;\">\n",
              "      <th></th>\n",
              "      <th>ano</th>\n",
              "      <th>genero</th>\n",
              "      <th>idade</th>\n",
              "      <th>suicidios</th>\n",
              "      <th>populacao</th>\n",
              "      <th>suicidios/100k_habitantes</th>\n",
              "      <th>IDH/ano</th>\n",
              "      <th>PIB/ano($)</th>\n",
              "      <th>PIB/capita($)</th>\n",
              "      <th>geracao</th>\n",
              "    </tr>\n",
              "  </thead>\n",
              "  <tbody>\n",
              "    <tr>\n",
              "      <th>0</th>\n",
              "      <td>1985</td>\n",
              "      <td>male</td>\n",
              "      <td>75+ years</td>\n",
              "      <td>129</td>\n",
              "      <td>840300</td>\n",
              "      <td>15.35</td>\n",
              "      <td>0.576</td>\n",
              "      <td>222942790435</td>\n",
              "      <td>1898</td>\n",
              "      <td>G.I. Generation</td>\n",
              "    </tr>\n",
              "    <tr>\n",
              "      <th>1</th>\n",
              "      <td>1985</td>\n",
              "      <td>male</td>\n",
              "      <td>55-74 years</td>\n",
              "      <td>535</td>\n",
              "      <td>5364900</td>\n",
              "      <td>9.97</td>\n",
              "      <td>0.576</td>\n",
              "      <td>222942790435</td>\n",
              "      <td>1898</td>\n",
              "      <td>G.I. Generation</td>\n",
              "    </tr>\n",
              "    <tr>\n",
              "      <th>2</th>\n",
              "      <td>1985</td>\n",
              "      <td>male</td>\n",
              "      <td>35-54 years</td>\n",
              "      <td>1011</td>\n",
              "      <td>11986300</td>\n",
              "      <td>8.43</td>\n",
              "      <td>0.576</td>\n",
              "      <td>222942790435</td>\n",
              "      <td>1898</td>\n",
              "      <td>Silent</td>\n",
              "    </tr>\n",
              "    <tr>\n",
              "      <th>3</th>\n",
              "      <td>1985</td>\n",
              "      <td>male</td>\n",
              "      <td>25-34 years</td>\n",
              "      <td>791</td>\n",
              "      <td>10762900</td>\n",
              "      <td>7.35</td>\n",
              "      <td>0.576</td>\n",
              "      <td>222942790435</td>\n",
              "      <td>1898</td>\n",
              "      <td>Boomers</td>\n",
              "    </tr>\n",
              "    <tr>\n",
              "      <th>4</th>\n",
              "      <td>1985</td>\n",
              "      <td>male</td>\n",
              "      <td>15-24 years</td>\n",
              "      <td>661</td>\n",
              "      <td>13834000</td>\n",
              "      <td>4.78</td>\n",
              "      <td>0.576</td>\n",
              "      <td>222942790435</td>\n",
              "      <td>1898</td>\n",
              "      <td>Generation X</td>\n",
              "    </tr>\n",
              "    <tr>\n",
              "      <th>...</th>\n",
              "      <td>...</td>\n",
              "      <td>...</td>\n",
              "      <td>...</td>\n",
              "      <td>...</td>\n",
              "      <td>...</td>\n",
              "      <td>...</td>\n",
              "      <td>...</td>\n",
              "      <td>...</td>\n",
              "      <td>...</td>\n",
              "      <td>...</td>\n",
              "    </tr>\n",
              "    <tr>\n",
              "      <th>367</th>\n",
              "      <td>2015</td>\n",
              "      <td>female</td>\n",
              "      <td>25-34 years</td>\n",
              "      <td>466</td>\n",
              "      <td>17546090</td>\n",
              "      <td>2.66</td>\n",
              "      <td>NaN</td>\n",
              "      <td>1802214373741</td>\n",
              "      <td>9431</td>\n",
              "      <td>Millenials</td>\n",
              "    </tr>\n",
              "    <tr>\n",
              "      <th>368</th>\n",
              "      <td>2015</td>\n",
              "      <td>female</td>\n",
              "      <td>75+ years</td>\n",
              "      <td>89</td>\n",
              "      <td>3802086</td>\n",
              "      <td>2.34</td>\n",
              "      <td>NaN</td>\n",
              "      <td>1802214373741</td>\n",
              "      <td>9431</td>\n",
              "      <td>Silent</td>\n",
              "    </tr>\n",
              "    <tr>\n",
              "      <th>369</th>\n",
              "      <td>2015</td>\n",
              "      <td>female</td>\n",
              "      <td>15-24 years</td>\n",
              "      <td>397</td>\n",
              "      <td>17047218</td>\n",
              "      <td>2.33</td>\n",
              "      <td>NaN</td>\n",
              "      <td>1802214373741</td>\n",
              "      <td>9431</td>\n",
              "      <td>Millenials</td>\n",
              "    </tr>\n",
              "    <tr>\n",
              "      <th>370</th>\n",
              "      <td>2015</td>\n",
              "      <td>male</td>\n",
              "      <td>5-14 years</td>\n",
              "      <td>79</td>\n",
              "      <td>16057040</td>\n",
              "      <td>0.49</td>\n",
              "      <td>NaN</td>\n",
              "      <td>1802214373741</td>\n",
              "      <td>9431</td>\n",
              "      <td>Generation Z</td>\n",
              "    </tr>\n",
              "    <tr>\n",
              "      <th>371</th>\n",
              "      <td>2015</td>\n",
              "      <td>female</td>\n",
              "      <td>5-14 years</td>\n",
              "      <td>56</td>\n",
              "      <td>15430579</td>\n",
              "      <td>0.36</td>\n",
              "      <td>NaN</td>\n",
              "      <td>1802214373741</td>\n",
              "      <td>9431</td>\n",
              "      <td>Generation Z</td>\n",
              "    </tr>\n",
              "  </tbody>\n",
              "</table>\n",
              "<p>372 rows × 10 columns</p>\n",
              "</div>\n",
              "      <button class=\"colab-df-convert\" onclick=\"convertToInteractive('df-abec257d-a7ca-4974-ace5-598686bfc99a')\"\n",
              "              title=\"Convert this dataframe to an interactive table.\"\n",
              "              style=\"display:none;\">\n",
              "        \n",
              "  <svg xmlns=\"http://www.w3.org/2000/svg\" height=\"24px\"viewBox=\"0 0 24 24\"\n",
              "       width=\"24px\">\n",
              "    <path d=\"M0 0h24v24H0V0z\" fill=\"none\"/>\n",
              "    <path d=\"M18.56 5.44l.94 2.06.94-2.06 2.06-.94-2.06-.94-.94-2.06-.94 2.06-2.06.94zm-11 1L8.5 8.5l.94-2.06 2.06-.94-2.06-.94L8.5 2.5l-.94 2.06-2.06.94zm10 10l.94 2.06.94-2.06 2.06-.94-2.06-.94-.94-2.06-.94 2.06-2.06.94z\"/><path d=\"M17.41 7.96l-1.37-1.37c-.4-.4-.92-.59-1.43-.59-.52 0-1.04.2-1.43.59L10.3 9.45l-7.72 7.72c-.78.78-.78 2.05 0 2.83L4 21.41c.39.39.9.59 1.41.59.51 0 1.02-.2 1.41-.59l7.78-7.78 2.81-2.81c.8-.78.8-2.07 0-2.86zM5.41 20L4 18.59l7.72-7.72 1.47 1.35L5.41 20z\"/>\n",
              "  </svg>\n",
              "      </button>\n",
              "      \n",
              "  <style>\n",
              "    .colab-df-container {\n",
              "      display:flex;\n",
              "      flex-wrap:wrap;\n",
              "      gap: 12px;\n",
              "    }\n",
              "\n",
              "    .colab-df-convert {\n",
              "      background-color: #E8F0FE;\n",
              "      border: none;\n",
              "      border-radius: 50%;\n",
              "      cursor: pointer;\n",
              "      display: none;\n",
              "      fill: #1967D2;\n",
              "      height: 32px;\n",
              "      padding: 0 0 0 0;\n",
              "      width: 32px;\n",
              "    }\n",
              "\n",
              "    .colab-df-convert:hover {\n",
              "      background-color: #E2EBFA;\n",
              "      box-shadow: 0px 1px 2px rgba(60, 64, 67, 0.3), 0px 1px 3px 1px rgba(60, 64, 67, 0.15);\n",
              "      fill: #174EA6;\n",
              "    }\n",
              "\n",
              "    [theme=dark] .colab-df-convert {\n",
              "      background-color: #3B4455;\n",
              "      fill: #D2E3FC;\n",
              "    }\n",
              "\n",
              "    [theme=dark] .colab-df-convert:hover {\n",
              "      background-color: #434B5C;\n",
              "      box-shadow: 0px 1px 3px 1px rgba(0, 0, 0, 0.15);\n",
              "      filter: drop-shadow(0px 1px 2px rgba(0, 0, 0, 0.3));\n",
              "      fill: #FFFFFF;\n",
              "    }\n",
              "  </style>\n",
              "\n",
              "      <script>\n",
              "        const buttonEl =\n",
              "          document.querySelector('#df-abec257d-a7ca-4974-ace5-598686bfc99a button.colab-df-convert');\n",
              "        buttonEl.style.display =\n",
              "          google.colab.kernel.accessAllowed ? 'block' : 'none';\n",
              "\n",
              "        async function convertToInteractive(key) {\n",
              "          const element = document.querySelector('#df-abec257d-a7ca-4974-ace5-598686bfc99a');\n",
              "          const dataTable =\n",
              "            await google.colab.kernel.invokeFunction('convertToInteractive',\n",
              "                                                     [key], {});\n",
              "          if (!dataTable) return;\n",
              "\n",
              "          const docLinkHtml = 'Like what you see? Visit the ' +\n",
              "            '<a target=\"_blank\" href=https://colab.research.google.com/notebooks/data_table.ipynb>data table notebook</a>'\n",
              "            + ' to learn more about interactive tables.';\n",
              "          element.innerHTML = '';\n",
              "          dataTable['output_type'] = 'display_data';\n",
              "          await google.colab.output.renderOutput(dataTable, element);\n",
              "          const docLink = document.createElement('div');\n",
              "          docLink.innerHTML = docLinkHtml;\n",
              "          element.appendChild(docLink);\n",
              "        }\n",
              "      </script>\n",
              "    </div>\n",
              "  </div>\n",
              "  "
            ]
          },
          "metadata": {},
          "execution_count": 32
        }
      ]
    },
    {
      "cell_type": "markdown",
      "source": [
        "### Por geração"
      ],
      "metadata": {
        "id": "x52lPDDdV7YE"
      }
    },
    {
      "cell_type": "code",
      "source": [
        "brasil_casos_por_geracao = df_brasil[['geracao', 'populacao', 'suicidios/100k_habitantes', 'suicidios', 'PIB/ano($)', 'PIB/capita($)']]\n",
        "brasil_casos_por_geracao = brasil_casos_por_geracao.groupby('geracao').mean()\n",
        "brasil_maior_taxa_geracao = brasil_casos_por_geracao.sort_values('suicidios/100k_habitantes', ascending=False).head(10)\n",
        "brasil_maior_quantidade_geracao = brasil_casos_por_geracao.sort_values('suicidios', ascending=False).head(10)"
      ],
      "metadata": {
        "id": "eeToJX2UV6Qp"
      },
      "execution_count": 33,
      "outputs": []
    },
    {
      "cell_type": "code",
      "source": [
        "plt.figure(figsize=(15,8))\n",
        "sns.barplot(data=brasil_maior_taxa_geracao, x=brasil_maior_taxa_geracao.index, y='suicidios/100k_habitantes')\n",
        "plt.xticks(rotation=45, ha='right', rotation_mode='anchor')\n",
        "plt.title('Gêneros com maiores médias de taxas de suicídio', size=17)\n",
        "plt.show()"
      ],
      "metadata": {
        "colab": {
          "base_uri": "https://localhost:8080/",
          "height": 568
        },
        "id": "f_kD7DC7WFYX",
        "outputId": "0b69c999-0223-43b4-86da-3f712af05f57"
      },
      "execution_count": 34,
      "outputs": [
        {
          "output_type": "display_data",
          "data": {
            "text/plain": [
              "<Figure size 1080x576 with 1 Axes>"
            ],
            "image/png": "[encoded data removed]"
          },
          "metadata": {
            "needs_background": "light"
          }
        }
      ]
    },
    {
      "cell_type": "code",
      "source": [
        "plt.figure(figsize=(15,8))\n",
        "sns.barplot(data=brasil_maior_quantidade_geracao, x=brasil_maior_quantidade_geracao.index.to_list(), y='suicidios')\n",
        "plt.xticks(rotation=45, ha='right', rotation_mode='anchor')\n",
        "plt.title('Gêneros com maiores médias de suicídio', size=17)\n",
        "plt.show()"
      ],
      "metadata": {
        "colab": {
          "base_uri": "https://localhost:8080/",
          "height": 554
        },
        "id": "cyZzo-DlWIL9",
        "outputId": "ebfa9d1c-7d40-4fb5-fb15-20b8a74fccb3"
      },
      "execution_count": 35,
      "outputs": [
        {
          "output_type": "display_data",
          "data": {
            "text/plain": [
              "<Figure size 1080x576 with 1 Axes>"
            ],
            "image/png": "[encoded data removed]"
          },
          "metadata": {
            "needs_background": "light"
          }
        }
      ]
    },
    {
      "cell_type": "code",
      "source": [
        "geracao_brasil = df_brasil.groupby('geracao').suicidios.sum() / df_brasil.groupby('geracao').suicidios.sum().sum()\n",
        "plt.figure(figsize=(15,8))\n",
        "ax = geracao_brasil.sort_values(ascending=False).plot(kind='bar',color = ['b', 'g', 'r', 'c', 'm', 'y'])\n",
        "plt.title(\"Taxa de suicídio por geração no Brasil\", size=17)\n",
        "plt.xticks(rotation=45)\n",
        "plt.show()"
      ],
      "metadata": {
        "colab": {
          "base_uri": "https://localhost:8080/",
          "height": 568
        },
        "id": "bOX0ZvQWWj4v",
        "outputId": "fa6d5ed4-6e5d-4b7b-fbd5-0829855ffee2"
      },
      "execution_count": 36,
      "outputs": [
        {
          "output_type": "display_data",
          "data": {
            "text/plain": [
              "<Figure size 1080x576 with 1 Axes>"
            ],
            "image/png": "[encoded data removed]"
          },
          "metadata": {
            "needs_background": "light"
          }
        }
      ]
    },
    {
      "cell_type": "markdown",
      "source": [
        "### Por ano"
      ],
      "metadata": {
        "id": "viXy004hjnex"
      }
    },
    {
      "cell_type": "code",
      "source": [
        "brasil_casos_por_ano = df_brasil[['ano', 'populacao', 'suicidios/100k_habitantes', 'suicidios', 'PIB/ano($)', 'PIB/capita($)']]\n",
        "brasil_casos_por_ano = brasil_casos_por_ano.groupby('ano').mean()\n",
        "brasil_maior_taxa_ano = brasil_casos_por_ano.sort_values('suicidios/100k_habitantes', ascending=False).head(10)\n",
        "brasil_maior_quantidade_ano = brasil_casos_por_ano.sort_values('suicidios', ascending=False).head(10)"
      ],
      "metadata": {
        "id": "xadmG95JjpqI"
      },
      "execution_count": 37,
      "outputs": []
    },
    {
      "cell_type": "code",
      "source": [
        "plt.figure(figsize=(15,8))\n",
        "sns.barplot(data=brasil_maior_taxa_ano, x=brasil_maior_taxa_ano.index.astype(str), y='suicidios/100k_habitantes')\n",
        "plt.xticks(rotation=45, ha='right', rotation_mode='anchor')\n",
        "plt.title('Anos com maiores médias de taxas de suicídio', size=17)\n",
        "plt.show()"
      ],
      "metadata": {
        "colab": {
          "base_uri": "https://localhost:8080/",
          "height": 532
        },
        "id": "6fFlM9txjuv8",
        "outputId": "6f519e21-aa4b-4e06-8dc4-9d269598e244"
      },
      "execution_count": 38,
      "outputs": [
        {
          "output_type": "display_data",
          "data": {
            "text/plain": [
              "<Figure size 1080x576 with 1 Axes>"
            ],
            "image/png": "[encoded data removed]"
          },
          "metadata": {
            "needs_background": "light"
          }
        }
      ]
    },
    {
      "cell_type": "code",
      "source": [
        "plt.figure(figsize=(15,8))\n",
        "sns.barplot(data=brasil_maior_quantidade_ano, x=brasil_maior_quantidade_ano.index.astype(str), y='suicidios')\n",
        "plt.xticks(rotation=45, ha='right', rotation_mode='anchor')\n",
        "plt.title('Gêneros com maiores médias de suicídio', size=17)\n",
        "plt.show()"
      ],
      "metadata": {
        "colab": {
          "base_uri": "https://localhost:8080/",
          "height": 532
        },
        "id": "-QoZkgpnj9GY",
        "outputId": "e9b7a4bf-963a-4722-fcf0-7be056166f04"
      },
      "execution_count": 39,
      "outputs": [
        {
          "output_type": "display_data",
          "data": {
            "text/plain": [
              "<Figure size 1080x576 with 1 Axes>"
            ],
            "image/png": "[encoded data removed]"
          },
          "metadata": {
            "needs_background": "light"
          }
        }
      ]
    },
    {
      "cell_type": "markdown",
      "source": [
        "### Por gênero"
      ],
      "metadata": {
        "id": "CPvKUstXlj7U"
      }
    },
    {
      "cell_type": "code",
      "source": [
        "brasil_casos_por_genero = df_brasil[['genero', 'populacao', 'suicidios/100k_habitantes', 'suicidios', 'PIB/ano($)', 'PIB/capita($)']]\n",
        "brasil_casos_por_genero = brasil_casos_por_genero.groupby('genero').mean()\n",
        "brasil_maior_taxa_genero = brasil_casos_por_genero.sort_values('suicidios/100k_habitantes', ascending=False).head(10)\n",
        "brasil_maior_quantidade_genero = brasil_casos_por_genero.sort_values('suicidios', ascending=False).head(10)"
      ],
      "metadata": {
        "id": "bASFzFh3loSy"
      },
      "execution_count": 40,
      "outputs": []
    },
    {
      "cell_type": "code",
      "source": [
        "plt.figure(figsize=(15,8))\n",
        "sns.barplot(data=brasil_casos_por_genero, x=brasil_casos_por_genero.index.astype(str), y='suicidios/100k_habitantes')\n",
        "plt.xticks(rotation=45, ha='right', rotation_mode='anchor')\n",
        "plt.title('Gêneros com maiores médias de taxas de suicídio', size=17)\n",
        "plt.show()"
      ],
      "metadata": {
        "colab": {
          "base_uri": "https://localhost:8080/",
          "height": 538
        },
        "id": "9u52yazmm-YY",
        "outputId": "cc43bf75-17b1-4036-8b81-ca5975bee4a2"
      },
      "execution_count": 41,
      "outputs": [
        {
          "output_type": "display_data",
          "data": {
            "text/plain": [
              "<Figure size 1080x576 with 1 Axes>"
            ],
            "image/png": "[encoded data removed]"
          },
          "metadata": {
            "needs_background": "light"
          }
        }
      ]
    },
    {
      "cell_type": "code",
      "source": [
        "plt.figure(figsize=(15,8))\n",
        "plt.pie(x=brasil_casos_por_genero['suicidios/100k_habitantes'], labels=brasil_casos_por_genero.index, autopct='%.0f%%')\n",
        "# plt.xticks(rotation=45, ha='right', rotation_mode='anchor')\n",
        "plt.title('Gêneros com maiores médias de taxas de suicídio', size=17)\n",
        "plt.show()"
      ],
      "metadata": {
        "colab": {
          "base_uri": "https://localhost:8080/",
          "height": 486
        },
        "id": "brYENfx1lwDs",
        "outputId": "12f2872f-e89f-41c5-86b9-170431e4a99d"
      },
      "execution_count": 42,
      "outputs": [
        {
          "output_type": "display_data",
          "data": {
            "text/plain": [
              "<Figure size 1080x576 with 1 Axes>"
            ],
            "image/png": "[encoded data removed]"
          },
          "metadata": {}
        }
      ]
    },
    {
      "cell_type": "markdown",
      "source": [
        "# Análises"
      ],
      "metadata": {
        "id": "dfDjBFi-FhP8"
      }
    },
    {
      "cell_type": "markdown",
      "source": [
        "**Mundo**:\n",
        "\n",
        "- A Lituânia aparece como sendo o país com a maior média de taxa de suicídios (\\~40 suicídios a cada 100k habitantes), enquanto que a Rússia aparece como sendo o país com maior média de casos (\\~3500).\n",
        "\n",
        "- Homens possuem a maior média de taxa e média de casos de suicídios do que as mulheres.\n",
        "\n",
        "- Enquanto a geração \"G.I. Generation\" possui a maior média de taxa de suicídios, a geração \"Boomers\" é a que possui a maior média de casos de suicídios.\n",
        "\n",
        "- Em relação a taxas, 1995 foi o ano que possuiu a maior média de taxa, enquanto em relação a quantidade, o ano de 1994 foi o que apresentou a maior média de casos.\n",
        "\n",
        "**Brasil**:\n",
        "\n",
        "- A \"G.I. Generation\" possui a maior média de taxa de suicídios e a \"Boomers\" a maior média de suicídios. Entretanto, observando a proporcionalidade das gerações, as gerações \"Generation X\" e \"Boomers\" correspondem a cerca de 60% dos casos totais do Brasil.\n",
        "\n",
        "- 2015 foi o ano com a maior média de taxa e maior média de casos de suicídios.\n",
        "\n",
        "- Assim como no mundo, os homens brasileiros tem a maior média de taxa e casos de suicídios do que as mulheres. Vale ressaltar que 82% dos casos de suicídios no Brasil são cometidos por homens.\n",
        "\n",
        "**Questionamentos**:\n",
        "\n",
        "1. Por que 1995 foi ano com os maiores índices de suícidio ? O que acontecia no mundo nesse ano ?\n",
        "2. Por quais motivos os homens se suicidam mais ?\n",
        "3. Existem fatores ecônomicos e sociais mais graves na Lituânia e na Rússia para serem os países com níveis de suicídio elevado ?\n",
        "4. Se segundo os estudos, a geração \"Boomers\" trata de uma geração idealista, combativa, disciplinada e com espírito coletivo, responsável por iniciar as lutas por direitos civis e políticos, por que mesmo assim é a geração que possui cerca de 30% dos casos de suicídios no Brasil ? Pode-se pensar que para o caso da geração \"Generation G.I.\", muito provavelmete a guerra, a crise econômica e social foram os principais fatores para tais números de suicídios."
      ],
      "metadata": {
        "id": "Apvq3tM3T6UA"
      }
    }
  ]
}